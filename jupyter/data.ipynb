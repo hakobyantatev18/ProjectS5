{
 "cells": [
  {
   "cell_type": "code",
   "execution_count": 1,
   "metadata": {},
   "outputs": [
    {
     "data": {
      "text/html": [
       "<div>\n",
       "<style scoped>\n",
       "    .dataframe tbody tr th:only-of-type {\n",
       "        vertical-align: middle;\n",
       "    }\n",
       "\n",
       "    .dataframe tbody tr th {\n",
       "        vertical-align: top;\n",
       "    }\n",
       "\n",
       "    .dataframe thead th {\n",
       "        text-align: right;\n",
       "    }\n",
       "</style>\n",
       "<table border=\"1\" class=\"dataframe\">\n",
       "  <thead>\n",
       "    <tr style=\"text-align: right;\">\n",
       "      <th></th>\n",
       "      <th>Number</th>\n",
       "      <th>Age</th>\n",
       "      <th>Gender</th>\n",
       "      <th>Nationality</th>\n",
       "      <th>Program</th>\n",
       "      <th>Course</th>\n",
       "      <th>English</th>\n",
       "      <th>Academic</th>\n",
       "      <th>Attendance</th>\n",
       "      <th>6</th>\n",
       "      <th>...</th>\n",
       "      <th>10</th>\n",
       "      <th>11</th>\n",
       "      <th>12</th>\n",
       "      <th>13</th>\n",
       "      <th>14</th>\n",
       "      <th>15</th>\n",
       "      <th>16</th>\n",
       "      <th>17</th>\n",
       "      <th>Scores</th>\n",
       "      <th>Score Range</th>\n",
       "    </tr>\n",
       "  </thead>\n",
       "  <tbody>\n",
       "    <tr>\n",
       "      <th>0</th>\n",
       "      <td>1</td>\n",
       "      <td>31-35</td>\n",
       "      <td>M</td>\n",
       "      <td>Korea</td>\n",
       "      <td>PM</td>\n",
       "      <td>Social Sciences and Humanities</td>\n",
       "      <td>60%~70%</td>\n",
       "      <td>NaN</td>\n",
       "      <td>S0</td>\n",
       "      <td>Disagree</td>\n",
       "      <td>...</td>\n",
       "      <td>Agree</td>\n",
       "      <td>Neither</td>\n",
       "      <td>Disagree</td>\n",
       "      <td>Strong Disagree</td>\n",
       "      <td>Strong Agree</td>\n",
       "      <td>Neither</td>\n",
       "      <td>Disagree</td>\n",
       "      <td>Agree</td>\n",
       "      <td>48.0</td>\n",
       "      <td>45+</td>\n",
       "    </tr>\n",
       "    <tr>\n",
       "      <th>1</th>\n",
       "      <td>2</td>\n",
       "      <td>26-30</td>\n",
       "      <td>M</td>\n",
       "      <td>China</td>\n",
       "      <td>PM</td>\n",
       "      <td>Science and engineering</td>\n",
       "      <td>60%~70%</td>\n",
       "      <td>50%~59%</td>\n",
       "      <td>S3</td>\n",
       "      <td>Strong Agree</td>\n",
       "      <td>...</td>\n",
       "      <td>Agree</td>\n",
       "      <td>Neither</td>\n",
       "      <td>Disagree</td>\n",
       "      <td>Strong Disagree</td>\n",
       "      <td>Neither</td>\n",
       "      <td>Agree</td>\n",
       "      <td>Neither</td>\n",
       "      <td>Disagree</td>\n",
       "      <td>42.0</td>\n",
       "      <td>35-45</td>\n",
       "    </tr>\n",
       "    <tr>\n",
       "      <th>2</th>\n",
       "      <td>3</td>\n",
       "      <td>26-30</td>\n",
       "      <td>M</td>\n",
       "      <td>Kenya</td>\n",
       "      <td>PM</td>\n",
       "      <td>Business</td>\n",
       "      <td>60%~70%</td>\n",
       "      <td>NaN</td>\n",
       "      <td>S0</td>\n",
       "      <td>Disagree</td>\n",
       "      <td>...</td>\n",
       "      <td>Agree</td>\n",
       "      <td>Agree</td>\n",
       "      <td>Disagree</td>\n",
       "      <td>Strong Disagree</td>\n",
       "      <td>Disagree</td>\n",
       "      <td>Strong Agree</td>\n",
       "      <td>Strong Agree</td>\n",
       "      <td>Disagree</td>\n",
       "      <td>38.0</td>\n",
       "      <td>35-45</td>\n",
       "    </tr>\n",
       "    <tr>\n",
       "      <th>3</th>\n",
       "      <td>4</td>\n",
       "      <td>21-25</td>\n",
       "      <td>M</td>\n",
       "      <td>Vietnam</td>\n",
       "      <td>PM</td>\n",
       "      <td>Law/Legal studies</td>\n",
       "      <td>60%~70%</td>\n",
       "      <td>60%~70%</td>\n",
       "      <td>S0</td>\n",
       "      <td>Disagree</td>\n",
       "      <td>...</td>\n",
       "      <td>Disagree</td>\n",
       "      <td>Agree</td>\n",
       "      <td>Neither</td>\n",
       "      <td>Neither</td>\n",
       "      <td>Neither</td>\n",
       "      <td>Neither</td>\n",
       "      <td>Disagree</td>\n",
       "      <td>Agree</td>\n",
       "      <td>36.0</td>\n",
       "      <td>35-45</td>\n",
       "    </tr>\n",
       "    <tr>\n",
       "      <th>4</th>\n",
       "      <td>5</td>\n",
       "      <td>21-25</td>\n",
       "      <td>M</td>\n",
       "      <td>China</td>\n",
       "      <td>PM</td>\n",
       "      <td>Business</td>\n",
       "      <td>60%~70%</td>\n",
       "      <td>50%~59%</td>\n",
       "      <td>S1</td>\n",
       "      <td>Neither</td>\n",
       "      <td>...</td>\n",
       "      <td>Disagree</td>\n",
       "      <td>Neither</td>\n",
       "      <td>Neither</td>\n",
       "      <td>Neither</td>\n",
       "      <td>Neither</td>\n",
       "      <td>Disagree</td>\n",
       "      <td>Neither</td>\n",
       "      <td>Agree</td>\n",
       "      <td>34.0</td>\n",
       "      <td>25-35</td>\n",
       "    </tr>\n",
       "  </tbody>\n",
       "</table>\n",
       "<p>5 rows × 23 columns</p>\n",
       "</div>"
      ],
      "text/plain": [
       "   Number    Age Gender Nationality Program                          Course  \\\n",
       "0       1  31-35      M       Korea      PM  Social Sciences and Humanities   \n",
       "1       2  26-30      M       China      PM         Science and engineering   \n",
       "2       3  26-30      M       Kenya      PM                        Business   \n",
       "3       4  21-25      M     Vietnam      PM               Law/Legal studies   \n",
       "4       5  21-25      M       China      PM                        Business   \n",
       "\n",
       "   English Academic Attendance             6  ...        10       11  \\\n",
       "0  60%~70%      NaN         S0      Disagree  ...     Agree  Neither   \n",
       "1  60%~70%  50%~59%         S3  Strong Agree  ...     Agree  Neither   \n",
       "2  60%~70%      NaN         S0      Disagree  ...     Agree    Agree   \n",
       "3  60%~70%  60%~70%         S0      Disagree  ...  Disagree    Agree   \n",
       "4  60%~70%  50%~59%         S1       Neither  ...  Disagree  Neither   \n",
       "\n",
       "         12               13            14            15            16  \\\n",
       "0  Disagree  Strong Disagree  Strong Agree       Neither      Disagree   \n",
       "1  Disagree  Strong Disagree       Neither         Agree       Neither   \n",
       "2  Disagree  Strong Disagree      Disagree  Strong Agree  Strong Agree   \n",
       "3   Neither          Neither       Neither       Neither      Disagree   \n",
       "4   Neither          Neither       Neither      Disagree       Neither   \n",
       "\n",
       "         17 Scores Score Range  \n",
       "0     Agree   48.0         45+  \n",
       "1  Disagree   42.0       35-45  \n",
       "2  Disagree   38.0       35-45  \n",
       "3     Agree   36.0       35-45  \n",
       "4     Agree   34.0       25-35  \n",
       "\n",
       "[5 rows x 23 columns]"
      ]
     },
     "execution_count": 1,
     "metadata": {},
     "output_type": "execute_result"
    }
   ],
   "source": [
    "import pandas as pd\n",
    "import numpy as np\n",
    "import matplotlib.pyplot as plt\n",
    "from sklearn import preprocessing\n",
    "import joblib\n",
    "\n",
    "from sklearn.preprocessing import LabelEncoder\n",
    "\n",
    "df = pd.read_csv(\"../dataSets/Time management data.csv\")\n",
    "df.head()"
   ]
  },
  {
   "cell_type": "code",
   "execution_count": 2,
   "metadata": {},
   "outputs": [
    {
     "data": {
      "text/plain": [
       "Number          0\n",
       "Age             0\n",
       "Gender          0\n",
       "Nationality     0\n",
       "Program         0\n",
       "Course          0\n",
       "English         6\n",
       "Academic       22\n",
       "Attendance      6\n",
       "6               2\n",
       "7               0\n",
       "8               4\n",
       "9               7\n",
       "10              1\n",
       "11              2\n",
       "12              3\n",
       "13              0\n",
       "14              1\n",
       "15              0\n",
       "16              2\n",
       "17              1\n",
       "Scores         14\n",
       "Score Range    14\n",
       "dtype: int64"
      ]
     },
     "execution_count": 2,
     "metadata": {},
     "output_type": "execute_result"
    }
   ],
   "source": [
    "df.isna().sum()"
   ]
  },
  {
   "cell_type": "code",
   "execution_count": 3,
   "metadata": {},
   "outputs": [],
   "source": [
    "df = df.drop(\"Number\",axis=1)\n",
    "df = df.drop(\"Nationality\",axis=1)\n",
    "df = df.drop(\"Scores\",axis=1)"
   ]
  },
  {
   "cell_type": "code",
   "execution_count": 4,
   "metadata": {},
   "outputs": [
    {
     "data": {
      "text/plain": [
       "Index(['Age', 'Gender', 'Program', 'Course', 'English', 'Academic',\n",
       "       'Attendance', '6', '7', '8', '9', '10', '11', '12', '13', '14', '15',\n",
       "       '16', '17', 'Score Range'],\n",
       "      dtype='object')"
      ]
     },
     "execution_count": 4,
     "metadata": {},
     "output_type": "execute_result"
    }
   ],
   "source": [
    "df.columns"
   ]
  },
  {
   "cell_type": "code",
   "execution_count": 5,
   "metadata": {},
   "outputs": [
    {
     "name": "stdout",
     "output_type": "stream",
     "text": [
      "Age            object\n",
      "Gender         object\n",
      "Program        object\n",
      "Course         object\n",
      "English        object\n",
      "Academic       object\n",
      "Attendance     object\n",
      "6              object\n",
      "7              object\n",
      "8              object\n",
      "9              object\n",
      "10             object\n",
      "11             object\n",
      "12             object\n",
      "13             object\n",
      "14             object\n",
      "15             object\n",
      "16             object\n",
      "17             object\n",
      "Score Range    object\n",
      "dtype: object\n",
      "(125, 20)\n"
     ]
    },
    {
     "data": {
      "text/plain": [
       "(91, 20)"
      ]
     },
     "execution_count": 5,
     "metadata": {},
     "output_type": "execute_result"
    }
   ],
   "source": [
    "#deleting the duplicate values\n",
    "print(df.dtypes)\n",
    "print(df.shape)\n",
    "\n",
    "df = df.dropna()\n",
    "df.isna().sum().sum()\n",
    "\n",
    "df.duplicated()\n",
    "df.drop_duplicates()\n",
    "\n",
    "df.shape"
   ]
  },
  {
   "cell_type": "code",
   "execution_count": 6,
   "metadata": {},
   "outputs": [
    {
     "data": {
      "text/html": [
       "<div>\n",
       "<style scoped>\n",
       "    .dataframe tbody tr th:only-of-type {\n",
       "        vertical-align: middle;\n",
       "    }\n",
       "\n",
       "    .dataframe tbody tr th {\n",
       "        vertical-align: top;\n",
       "    }\n",
       "\n",
       "    .dataframe thead th {\n",
       "        text-align: right;\n",
       "    }\n",
       "</style>\n",
       "<table border=\"1\" class=\"dataframe\">\n",
       "  <thead>\n",
       "    <tr style=\"text-align: right;\">\n",
       "      <th></th>\n",
       "      <th>Age</th>\n",
       "      <th>Gender</th>\n",
       "      <th>Program</th>\n",
       "      <th>Course</th>\n",
       "      <th>English</th>\n",
       "      <th>Academic</th>\n",
       "      <th>Attendance</th>\n",
       "      <th>6</th>\n",
       "      <th>7</th>\n",
       "      <th>8</th>\n",
       "      <th>9</th>\n",
       "      <th>10</th>\n",
       "      <th>11</th>\n",
       "      <th>12</th>\n",
       "      <th>13</th>\n",
       "      <th>14</th>\n",
       "      <th>15</th>\n",
       "      <th>16</th>\n",
       "      <th>17</th>\n",
       "      <th>Score Range</th>\n",
       "    </tr>\n",
       "  </thead>\n",
       "  <tbody>\n",
       "    <tr>\n",
       "      <th>1</th>\n",
       "      <td>26-30</td>\n",
       "      <td>M</td>\n",
       "      <td>PM</td>\n",
       "      <td>Science and engineering</td>\n",
       "      <td>60%~70%</td>\n",
       "      <td>50%~59%</td>\n",
       "      <td>S3</td>\n",
       "      <td>Strong Agree</td>\n",
       "      <td>Agree</td>\n",
       "      <td>Neither</td>\n",
       "      <td>Disagree</td>\n",
       "      <td>Agree</td>\n",
       "      <td>Neither</td>\n",
       "      <td>Disagree</td>\n",
       "      <td>Strong Disagree</td>\n",
       "      <td>Neither</td>\n",
       "      <td>Agree</td>\n",
       "      <td>Neither</td>\n",
       "      <td>Disagree</td>\n",
       "      <td>35-45</td>\n",
       "    </tr>\n",
       "    <tr>\n",
       "      <th>3</th>\n",
       "      <td>21-25</td>\n",
       "      <td>M</td>\n",
       "      <td>PM</td>\n",
       "      <td>Law/Legal studies</td>\n",
       "      <td>60%~70%</td>\n",
       "      <td>60%~70%</td>\n",
       "      <td>S0</td>\n",
       "      <td>Disagree</td>\n",
       "      <td>Disagree</td>\n",
       "      <td>Agree</td>\n",
       "      <td>Agree</td>\n",
       "      <td>Disagree</td>\n",
       "      <td>Agree</td>\n",
       "      <td>Neither</td>\n",
       "      <td>Neither</td>\n",
       "      <td>Neither</td>\n",
       "      <td>Neither</td>\n",
       "      <td>Disagree</td>\n",
       "      <td>Agree</td>\n",
       "      <td>35-45</td>\n",
       "    </tr>\n",
       "    <tr>\n",
       "      <th>4</th>\n",
       "      <td>21-25</td>\n",
       "      <td>M</td>\n",
       "      <td>PM</td>\n",
       "      <td>Business</td>\n",
       "      <td>60%~70%</td>\n",
       "      <td>50%~59%</td>\n",
       "      <td>S1</td>\n",
       "      <td>Neither</td>\n",
       "      <td>Disagree</td>\n",
       "      <td>Neither</td>\n",
       "      <td>Neither</td>\n",
       "      <td>Disagree</td>\n",
       "      <td>Neither</td>\n",
       "      <td>Neither</td>\n",
       "      <td>Neither</td>\n",
       "      <td>Neither</td>\n",
       "      <td>Disagree</td>\n",
       "      <td>Neither</td>\n",
       "      <td>Agree</td>\n",
       "      <td>25-35</td>\n",
       "    </tr>\n",
       "    <tr>\n",
       "      <th>5</th>\n",
       "      <td>21-25</td>\n",
       "      <td>M</td>\n",
       "      <td>PM</td>\n",
       "      <td>Law/Legal studies</td>\n",
       "      <td>60%~70%</td>\n",
       "      <td>60%~70%</td>\n",
       "      <td>S0</td>\n",
       "      <td>Agree</td>\n",
       "      <td>Neither</td>\n",
       "      <td>Agree</td>\n",
       "      <td>Strong Agree</td>\n",
       "      <td>Disagree</td>\n",
       "      <td>Disagree</td>\n",
       "      <td>Strong Agree</td>\n",
       "      <td>Agree</td>\n",
       "      <td>Strong Agree</td>\n",
       "      <td>Strong Agree</td>\n",
       "      <td>Strong Disagree</td>\n",
       "      <td>Strong Agree</td>\n",
       "      <td>35-45</td>\n",
       "    </tr>\n",
       "    <tr>\n",
       "      <th>6</th>\n",
       "      <td>21-25</td>\n",
       "      <td>M</td>\n",
       "      <td>PM</td>\n",
       "      <td>Art and Design</td>\n",
       "      <td>60%~70%</td>\n",
       "      <td>60%~70%</td>\n",
       "      <td>S0</td>\n",
       "      <td>Disagree</td>\n",
       "      <td>Agree</td>\n",
       "      <td>Agree</td>\n",
       "      <td>Neither</td>\n",
       "      <td>Agree</td>\n",
       "      <td>Neither</td>\n",
       "      <td>Neither</td>\n",
       "      <td>Strong Disagree</td>\n",
       "      <td>Disagree</td>\n",
       "      <td>Strong Disagree</td>\n",
       "      <td>Strong Disagree</td>\n",
       "      <td>Neither</td>\n",
       "      <td>45+</td>\n",
       "    </tr>\n",
       "  </tbody>\n",
       "</table>\n",
       "</div>"
      ],
      "text/plain": [
       "     Age Gender Program                   Course  English Academic Attendance  \\\n",
       "1  26-30      M      PM  Science and engineering  60%~70%  50%~59%         S3   \n",
       "3  21-25      M      PM        Law/Legal studies  60%~70%  60%~70%         S0   \n",
       "4  21-25      M      PM                 Business  60%~70%  50%~59%         S1   \n",
       "5  21-25      M      PM        Law/Legal studies  60%~70%  60%~70%         S0   \n",
       "6  21-25      M      PM           Art and Design  60%~70%  60%~70%         S0   \n",
       "\n",
       "              6         7        8             9        10        11  \\\n",
       "1  Strong Agree     Agree  Neither      Disagree     Agree   Neither   \n",
       "3      Disagree  Disagree    Agree         Agree  Disagree     Agree   \n",
       "4       Neither  Disagree  Neither       Neither  Disagree   Neither   \n",
       "5         Agree   Neither    Agree  Strong Agree  Disagree  Disagree   \n",
       "6      Disagree     Agree    Agree       Neither     Agree   Neither   \n",
       "\n",
       "             12               13            14               15  \\\n",
       "1      Disagree  Strong Disagree       Neither            Agree   \n",
       "3       Neither          Neither       Neither          Neither   \n",
       "4       Neither          Neither       Neither         Disagree   \n",
       "5  Strong Agree            Agree  Strong Agree     Strong Agree   \n",
       "6       Neither  Strong Disagree      Disagree  Strong Disagree   \n",
       "\n",
       "                16            17 Score Range  \n",
       "1          Neither      Disagree       35-45  \n",
       "3         Disagree         Agree       35-45  \n",
       "4          Neither         Agree       25-35  \n",
       "5  Strong Disagree  Strong Agree       35-45  \n",
       "6  Strong Disagree       Neither         45+  "
      ]
     },
     "execution_count": 6,
     "metadata": {},
     "output_type": "execute_result"
    }
   ],
   "source": [
    "df.head()"
   ]
  },
  {
   "cell_type": "code",
   "execution_count": 7,
   "metadata": {},
   "outputs": [
    {
     "name": "stdout",
     "output_type": "stream",
     "text": [
      "['26-30' '21-25' '18-20' '<18' '>36' '31-35']\n",
      "['M' 'F']\n",
      "['PM' 'IYO' 'FC' 'Language']\n",
      "['Science and engineering' 'Law/Legal studies' 'Business' 'Art and Design'\n",
      " 'Computing' 'Social Sciences and Humanities' 'Media and Communications']\n",
      "['60%~70%' '>70%' '50%~59%' '40%~49%']\n",
      "['50%~59%' '60%~70%' '40%~49%' '>70%' '<40%']\n",
      "['S3' 'S0' 'S1' 'S2' 'S4']\n",
      "['Strong Agree' 'Disagree' 'Neither' 'Agree' 'Strong Disagree']\n",
      "['Agree' 'Disagree' 'Neither' 'Strong Agree' 'Strong Disagree']\n",
      "['Neither' 'Agree' 'Strong Disagree' 'Disagree' 'Strong Agree']\n",
      "['Disagree' 'Agree' 'Neither' 'Strong Agree' 'Strong Disagree']\n",
      "['Agree' 'Disagree' 'Neither' 'Strong Agree' 'Strong Disagree']\n",
      "['Neither' 'Agree' 'Disagree' 'Strong Disagree' 'Strong Agree']\n",
      "['Disagree' 'Neither' 'Strong Agree' 'Agree' 'Strong Disagree']\n",
      "['Strong Disagree' 'Neither' 'Agree' 'Disagree' 'Strong Agree']\n",
      "['Neither' 'Strong Agree' 'Disagree' 'Agree' 'Strong Disagree']\n",
      "['Agree' 'Neither' 'Disagree' 'Strong Agree' 'Strong Disagree']\n",
      "['Neither' 'Disagree' 'Strong Disagree' 'Agree' 'Strong Agree']\n",
      "['Disagree' 'Agree' 'Strong Agree' 'Neither' 'Strong Disagree']\n",
      "['35-45' '25-35' '45+']\n"
     ]
    }
   ],
   "source": [
    "print(df['Age'].unique())\n",
    "print(df['Gender'].unique())\n",
    "print(df['Program'].unique())\n",
    "print(df['Course'].unique())\n",
    "print(df['English'].unique())\n",
    "print(df['Academic'].unique())\n",
    "print(df['Attendance'].unique())\n",
    "print(df['6'].unique())\n",
    "print(df['7'].unique())\n",
    "print(df['8'].unique())\n",
    "print(df['9'].unique())\n",
    "print(df['10'].unique())\n",
    "print(df['11'].unique())\n",
    "print(df['12'].unique())\n",
    "print(df[\"13\"].unique())\n",
    "print(df[\"14\"].unique())\n",
    "print(df[\"15\"].unique())\n",
    "print(df[\"16\"].unique())\n",
    "print(df[\"17\"].unique())\n",
    "print(df[\"Score Range\"].unique())"
   ]
  },
  {
   "cell_type": "code",
   "execution_count": 8,
   "metadata": {},
   "outputs": [
    {
     "data": {
      "image/png": "[encoded data removed]",
      "text/plain": [
       "<Figure size 640x480 with 1 Axes>"
      ]
     },
     "metadata": {},
     "output_type": "display_data"
    }
   ],
   "source": [
    "df[\"Gender\"]\n",
    "\n",
    "male = df.loc[df[\"Gender\"] == \"M\"].count()[0]\n",
    "# print(male)\n",
    "female = df.loc[df[\"Gender\"] == \"F\"].count()[0]\n",
    "\n",
    "plt.pie([male,female],colors=[\"#ababab\",\"#abcdef\"],labels=[\"Male\",\"Female\"],autopct=\"%.2f %%\")\n",
    "plt.title(\"The distribution of genders\")\n",
    "plt.show()"
   ]
  },
  {
   "cell_type": "code",
   "execution_count": 9,
   "metadata": {},
   "outputs": [
    {
     "data": {
      "image/png": "[encoded data removed]",
      "text/plain": [
       "<Figure size 640x480 with 1 Axes>"
      ]
     },
     "metadata": {},
     "output_type": "display_data"
    }
   ],
   "source": [
    "df[\"Age\"]\n",
    "\n",
    "\n",
    "seniors = df.loc[df[\"Age\"] == \">36\"].count()[0]\n",
    "adults = df.loc[df[\"Age\"] == \"31-35\"].count()[0]\n",
    "young = df.loc[df[\"Age\"] == \"26-30\"].count()[0]\n",
    "underage = df.loc[df[\"Age\"] == \"<18\"].count()[0]\n",
    "teen = df.loc[df[\"Age\"] == \"18-20\"].count()[0]\n",
    "youngster = df.loc[df[\"Age\"] == \"21-25\"].count()[0]\n",
    "\n",
    "\n",
    "\n",
    "plt.pie([seniors,adults,young,underage,teen,youngster],colors=[\"#F8B195\",\"#F67280\",\"#C06C84\"],labels=[\">36\",\"31-35\", \"26-30\",\"<18\",\"18-20\",\"21-25\"],autopct=\"%d %%\")  # or \"%.2f %%\"\n",
    "plt.title(\"The distribution of age ranges\")\n",
    "plt.show()"
   ]
  },
  {
   "cell_type": "code",
   "execution_count": 10,
   "metadata": {},
   "outputs": [],
   "source": [
    "categorial_features = ['Age','Gender','Program','Course','English','Academic','Attendance','6','7','8','9','10','11','12','13','14','15','16','17','Score Range']"
   ]
  },
  {
   "cell_type": "code",
   "execution_count": 11,
   "metadata": {},
   "outputs": [],
   "source": [
    "from ctgan import CTGAN"
   ]
  },
  {
   "cell_type": "code",
   "execution_count": 12,
   "metadata": {},
   "outputs": [
    {
     "name": "stderr",
     "output_type": "stream",
     "text": [
      "Gen. (0.52) | Discrim. (0.04): 100%|██████████| 50/50 [00:14<00:00,  3.38it/s] \n"
     ]
    }
   ],
   "source": [
    "ctgan = CTGAN(verbose=True)\n",
    "ctgan.fit(df,categorial_features,epochs=50)"
   ]
  },
  {
   "cell_type": "code",
   "execution_count": 13,
   "metadata": {},
   "outputs": [],
   "source": [
    "samples = ctgan.sample(5000)"
   ]
  },
  {
   "cell_type": "code",
   "execution_count": 14,
   "metadata": {},
   "outputs": [
    {
     "name": "stdout",
     "output_type": "stream",
     "text": [
      "(5000, 20)\n"
     ]
    },
    {
     "data": {
      "text/plain": [
       "(5000, 20)"
      ]
     },
     "execution_count": 14,
     "metadata": {},
     "output_type": "execute_result"
    }
   ],
   "source": [
    "print(samples.shape)\n",
    "\n",
    "samples = samples.dropna()\n",
    "samples.isna().sum().sum()\n",
    "\n",
    "samples.duplicated()\n",
    "samples.drop_duplicates()\n",
    "\n",
    "samples.shape"
   ]
  },
  {
   "cell_type": "code",
   "execution_count": 16,
   "metadata": {},
   "outputs": [],
   "source": [
    "csv_file_path = \"../dataSets/synthetic_data.csv\"\n",
    "samples.to_csv(csv_file_path,index=False)"
   ]
  },
  {
   "cell_type": "code",
   "execution_count": 17,
   "metadata": {},
   "outputs": [
    {
     "name": "stdout",
     "output_type": "stream",
     "text": [
      "(5091, 20)\n"
     ]
    }
   ],
   "source": [
    "frames = [df, samples]\n",
    " \n",
    "result = pd.concat(frames)\n",
    "# display(result)\n",
    "print(result.shape)"
   ]
  },
  {
   "cell_type": "code",
   "execution_count": 18,
   "metadata": {},
   "outputs": [
    {
     "data": {
      "text/plain": [
       "(5091, 20)"
      ]
     },
     "execution_count": 18,
     "metadata": {},
     "output_type": "execute_result"
    }
   ],
   "source": [
    "result.head()\n",
    "result.shape"
   ]
  },
  {
   "cell_type": "code",
   "execution_count": 19,
   "metadata": {},
   "outputs": [],
   "source": [
    "option_scores6 = {\n",
    "    'Strong Agree': 1,\n",
    "    'Agree': 2,\n",
    "    'Neither': 3,\n",
    "    'Disagree': 4,\n",
    "    'Strong Disagree': 5\n",
    "}\n",
    "\n",
    "option_scores7 = {\n",
    "    'Strong Agree': 5,\n",
    "    'Agree': 4,\n",
    "    'Neither': 3,\n",
    "    'Disagree': 2,\n",
    "    'Strong Disagree': 1\n",
    "}\n",
    "\n",
    "\n",
    "option_scores8 = {\n",
    "    'Strong Agree': 5,\n",
    "    'Agree': 4,\n",
    "    'Neither': 3,\n",
    "    'Disagree': 2,\n",
    "    'Strong Disagree': 1\n",
    "}\n",
    "\n",
    "\n",
    "option_scores9 = {\n",
    "    'Strong Agree': 1,\n",
    "    'Agree': 2,\n",
    "    'Neither': 3,\n",
    "    'Disagree': 4,\n",
    "    'Strong Disagree': 5\n",
    "}\n",
    "\n",
    "\n",
    "option_scores10 = {\n",
    "    'Strong Agree': 5,\n",
    "    'Agree': 4,\n",
    "    'Neither': 3,\n",
    "    'Disagree': 2,\n",
    "    'Strong Disagree': 1\n",
    "}\n",
    "\n",
    "option_scores11 = {\n",
    "    'Strong Agree': 1,\n",
    "    'Agree': 2,\n",
    "    'Neither': 3,\n",
    "    'Disagree': 4,\n",
    "    'Strong Disagree': 5\n",
    "}\n",
    "\n",
    "option_scores12 = {\n",
    "    'Strong Agree': 1,\n",
    "    'Agree': 2,\n",
    "    'Neither': 3,\n",
    "    'Disagree': 4,\n",
    "    'Strong Disagree': 5\n",
    "}\n",
    "option_scores13 = {\n",
    "    'Strong Agree': 1,\n",
    "    'Agree': 2,\n",
    "    'Neither': 3,\n",
    "    'Disagree': 4,\n",
    "    'Strong Disagree': 5\n",
    "}\n",
    "\n",
    "\n",
    "option_scores14 = {\n",
    "    'Strong Agree': 5,\n",
    "    'Agree': 4,\n",
    "    'Neither': 3,\n",
    "    'Disagree': 2,\n",
    "    'Strong Disagree': 1\n",
    "}\n",
    "\n",
    "option_scores15 = {\n",
    "    'Strong Agree': 1,\n",
    "    'Agree': 2,\n",
    "    'Neither': 3,\n",
    "    'Disagree': 4,\n",
    "    'Strong Disagree': 5\n",
    "}\n",
    "\n",
    "option_scores16 = {\n",
    "    'Strong Agree': 1,\n",
    "    'Agree': 2,\n",
    "    'Neither': 3,\n",
    "    'Disagree': 4,\n",
    "    'Strong Disagree': 5\n",
    "}\n",
    "\n",
    "option_scores17 = {\n",
    "    'Strong Agree': 5,\n",
    "    'Agree': 4,\n",
    "    'Neither': 3,\n",
    "    'Disagree': 2,\n",
    "    'Strong Disagree': 1\n",
    "}"
   ]
  },
  {
   "cell_type": "code",
   "execution_count": 20,
   "metadata": {},
   "outputs": [
    {
     "name": "stdout",
     "output_type": "stream",
     "text": [
      "Index(['6', '7', '8', '9', '10', '11', '12', '13', '14', '15', '16', '17'], dtype='object')\n"
     ]
    }
   ],
   "source": [
    "columns_to_sum = result.columns[7:19]\n",
    "print(columns_to_sum)"
   ]
  },
  {
   "cell_type": "code",
   "execution_count": 21,
   "metadata": {},
   "outputs": [
    {
     "name": "stdout",
     "output_type": "stream",
     "text": [
      "      Total Score\n",
      "1              38\n",
      "3              36\n",
      "4              36\n",
      "5              35\n",
      "6              45\n",
      "...           ...\n",
      "4995           37\n",
      "4996           40\n",
      "4997           33\n",
      "4998           38\n",
      "4999           29\n",
      "\n",
      "[5091 rows x 1 columns]\n"
     ]
    },
    {
     "data": {
      "text/html": [
       "<div>\n",
       "<style scoped>\n",
       "    .dataframe tbody tr th:only-of-type {\n",
       "        vertical-align: middle;\n",
       "    }\n",
       "\n",
       "    .dataframe tbody tr th {\n",
       "        vertical-align: top;\n",
       "    }\n",
       "\n",
       "    .dataframe thead th {\n",
       "        text-align: right;\n",
       "    }\n",
       "</style>\n",
       "<table border=\"1\" class=\"dataframe\">\n",
       "  <thead>\n",
       "    <tr style=\"text-align: right;\">\n",
       "      <th></th>\n",
       "      <th>Age</th>\n",
       "      <th>Gender</th>\n",
       "      <th>Program</th>\n",
       "      <th>Course</th>\n",
       "      <th>English</th>\n",
       "      <th>Academic</th>\n",
       "      <th>Attendance</th>\n",
       "      <th>6</th>\n",
       "      <th>7</th>\n",
       "      <th>8</th>\n",
       "      <th>...</th>\n",
       "      <th>10</th>\n",
       "      <th>11</th>\n",
       "      <th>12</th>\n",
       "      <th>13</th>\n",
       "      <th>14</th>\n",
       "      <th>15</th>\n",
       "      <th>16</th>\n",
       "      <th>17</th>\n",
       "      <th>Score Range</th>\n",
       "      <th>Total Score</th>\n",
       "    </tr>\n",
       "  </thead>\n",
       "  <tbody>\n",
       "    <tr>\n",
       "      <th>1</th>\n",
       "      <td>26-30</td>\n",
       "      <td>M</td>\n",
       "      <td>PM</td>\n",
       "      <td>Science and engineering</td>\n",
       "      <td>60%~70%</td>\n",
       "      <td>50%~59%</td>\n",
       "      <td>S3</td>\n",
       "      <td>1</td>\n",
       "      <td>4</td>\n",
       "      <td>3</td>\n",
       "      <td>...</td>\n",
       "      <td>4</td>\n",
       "      <td>3</td>\n",
       "      <td>4</td>\n",
       "      <td>5</td>\n",
       "      <td>3</td>\n",
       "      <td>2</td>\n",
       "      <td>3</td>\n",
       "      <td>2</td>\n",
       "      <td>35-45</td>\n",
       "      <td>38</td>\n",
       "    </tr>\n",
       "    <tr>\n",
       "      <th>3</th>\n",
       "      <td>21-25</td>\n",
       "      <td>M</td>\n",
       "      <td>PM</td>\n",
       "      <td>Law/Legal studies</td>\n",
       "      <td>60%~70%</td>\n",
       "      <td>60%~70%</td>\n",
       "      <td>S0</td>\n",
       "      <td>4</td>\n",
       "      <td>2</td>\n",
       "      <td>4</td>\n",
       "      <td>...</td>\n",
       "      <td>2</td>\n",
       "      <td>2</td>\n",
       "      <td>3</td>\n",
       "      <td>3</td>\n",
       "      <td>3</td>\n",
       "      <td>3</td>\n",
       "      <td>4</td>\n",
       "      <td>4</td>\n",
       "      <td>35-45</td>\n",
       "      <td>36</td>\n",
       "    </tr>\n",
       "    <tr>\n",
       "      <th>4</th>\n",
       "      <td>21-25</td>\n",
       "      <td>M</td>\n",
       "      <td>PM</td>\n",
       "      <td>Business</td>\n",
       "      <td>60%~70%</td>\n",
       "      <td>50%~59%</td>\n",
       "      <td>S1</td>\n",
       "      <td>3</td>\n",
       "      <td>2</td>\n",
       "      <td>3</td>\n",
       "      <td>...</td>\n",
       "      <td>2</td>\n",
       "      <td>3</td>\n",
       "      <td>3</td>\n",
       "      <td>3</td>\n",
       "      <td>3</td>\n",
       "      <td>4</td>\n",
       "      <td>3</td>\n",
       "      <td>4</td>\n",
       "      <td>25-35</td>\n",
       "      <td>36</td>\n",
       "    </tr>\n",
       "    <tr>\n",
       "      <th>5</th>\n",
       "      <td>21-25</td>\n",
       "      <td>M</td>\n",
       "      <td>PM</td>\n",
       "      <td>Law/Legal studies</td>\n",
       "      <td>60%~70%</td>\n",
       "      <td>60%~70%</td>\n",
       "      <td>S0</td>\n",
       "      <td>2</td>\n",
       "      <td>3</td>\n",
       "      <td>4</td>\n",
       "      <td>...</td>\n",
       "      <td>2</td>\n",
       "      <td>4</td>\n",
       "      <td>1</td>\n",
       "      <td>2</td>\n",
       "      <td>5</td>\n",
       "      <td>1</td>\n",
       "      <td>5</td>\n",
       "      <td>5</td>\n",
       "      <td>35-45</td>\n",
       "      <td>35</td>\n",
       "    </tr>\n",
       "    <tr>\n",
       "      <th>6</th>\n",
       "      <td>21-25</td>\n",
       "      <td>M</td>\n",
       "      <td>PM</td>\n",
       "      <td>Art and Design</td>\n",
       "      <td>60%~70%</td>\n",
       "      <td>60%~70%</td>\n",
       "      <td>S0</td>\n",
       "      <td>4</td>\n",
       "      <td>4</td>\n",
       "      <td>4</td>\n",
       "      <td>...</td>\n",
       "      <td>4</td>\n",
       "      <td>3</td>\n",
       "      <td>3</td>\n",
       "      <td>5</td>\n",
       "      <td>2</td>\n",
       "      <td>5</td>\n",
       "      <td>5</td>\n",
       "      <td>3</td>\n",
       "      <td>45+</td>\n",
       "      <td>45</td>\n",
       "    </tr>\n",
       "    <tr>\n",
       "      <th>...</th>\n",
       "      <td>...</td>\n",
       "      <td>...</td>\n",
       "      <td>...</td>\n",
       "      <td>...</td>\n",
       "      <td>...</td>\n",
       "      <td>...</td>\n",
       "      <td>...</td>\n",
       "      <td>...</td>\n",
       "      <td>...</td>\n",
       "      <td>...</td>\n",
       "      <td>...</td>\n",
       "      <td>...</td>\n",
       "      <td>...</td>\n",
       "      <td>...</td>\n",
       "      <td>...</td>\n",
       "      <td>...</td>\n",
       "      <td>...</td>\n",
       "      <td>...</td>\n",
       "      <td>...</td>\n",
       "      <td>...</td>\n",
       "      <td>...</td>\n",
       "    </tr>\n",
       "    <tr>\n",
       "      <th>4995</th>\n",
       "      <td>18-20</td>\n",
       "      <td>M</td>\n",
       "      <td>PM</td>\n",
       "      <td>Business</td>\n",
       "      <td>50%~59%</td>\n",
       "      <td>40%~49%</td>\n",
       "      <td>S1</td>\n",
       "      <td>2</td>\n",
       "      <td>3</td>\n",
       "      <td>4</td>\n",
       "      <td>...</td>\n",
       "      <td>5</td>\n",
       "      <td>1</td>\n",
       "      <td>4</td>\n",
       "      <td>3</td>\n",
       "      <td>3</td>\n",
       "      <td>3</td>\n",
       "      <td>4</td>\n",
       "      <td>2</td>\n",
       "      <td>35-45</td>\n",
       "      <td>37</td>\n",
       "    </tr>\n",
       "    <tr>\n",
       "      <th>4996</th>\n",
       "      <td>21-25</td>\n",
       "      <td>M</td>\n",
       "      <td>PM</td>\n",
       "      <td>Business</td>\n",
       "      <td>&gt;70%</td>\n",
       "      <td>50%~59%</td>\n",
       "      <td>S0</td>\n",
       "      <td>3</td>\n",
       "      <td>2</td>\n",
       "      <td>5</td>\n",
       "      <td>...</td>\n",
       "      <td>5</td>\n",
       "      <td>3</td>\n",
       "      <td>2</td>\n",
       "      <td>4</td>\n",
       "      <td>2</td>\n",
       "      <td>3</td>\n",
       "      <td>4</td>\n",
       "      <td>2</td>\n",
       "      <td>35-45</td>\n",
       "      <td>40</td>\n",
       "    </tr>\n",
       "    <tr>\n",
       "      <th>4997</th>\n",
       "      <td>18-20</td>\n",
       "      <td>M</td>\n",
       "      <td>PM</td>\n",
       "      <td>Business</td>\n",
       "      <td>60%~70%</td>\n",
       "      <td>50%~59%</td>\n",
       "      <td>S2</td>\n",
       "      <td>4</td>\n",
       "      <td>2</td>\n",
       "      <td>3</td>\n",
       "      <td>...</td>\n",
       "      <td>2</td>\n",
       "      <td>2</td>\n",
       "      <td>3</td>\n",
       "      <td>5</td>\n",
       "      <td>1</td>\n",
       "      <td>3</td>\n",
       "      <td>2</td>\n",
       "      <td>3</td>\n",
       "      <td>25-35</td>\n",
       "      <td>33</td>\n",
       "    </tr>\n",
       "    <tr>\n",
       "      <th>4998</th>\n",
       "      <td>31-35</td>\n",
       "      <td>M</td>\n",
       "      <td>PM</td>\n",
       "      <td>Business</td>\n",
       "      <td>&gt;70%</td>\n",
       "      <td>60%~70%</td>\n",
       "      <td>S0</td>\n",
       "      <td>4</td>\n",
       "      <td>2</td>\n",
       "      <td>3</td>\n",
       "      <td>...</td>\n",
       "      <td>4</td>\n",
       "      <td>3</td>\n",
       "      <td>3</td>\n",
       "      <td>4</td>\n",
       "      <td>4</td>\n",
       "      <td>3</td>\n",
       "      <td>2</td>\n",
       "      <td>4</td>\n",
       "      <td>25-35</td>\n",
       "      <td>38</td>\n",
       "    </tr>\n",
       "    <tr>\n",
       "      <th>4999</th>\n",
       "      <td>21-25</td>\n",
       "      <td>M</td>\n",
       "      <td>PM</td>\n",
       "      <td>Business</td>\n",
       "      <td>50%~59%</td>\n",
       "      <td>60%~70%</td>\n",
       "      <td>S1</td>\n",
       "      <td>3</td>\n",
       "      <td>1</td>\n",
       "      <td>3</td>\n",
       "      <td>...</td>\n",
       "      <td>4</td>\n",
       "      <td>2</td>\n",
       "      <td>2</td>\n",
       "      <td>4</td>\n",
       "      <td>2</td>\n",
       "      <td>2</td>\n",
       "      <td>1</td>\n",
       "      <td>4</td>\n",
       "      <td>25-35</td>\n",
       "      <td>29</td>\n",
       "    </tr>\n",
       "  </tbody>\n",
       "</table>\n",
       "<p>5091 rows × 21 columns</p>\n",
       "</div>"
      ],
      "text/plain": [
       "        Age Gender Program                   Course  English Academic  \\\n",
       "1     26-30      M      PM  Science and engineering  60%~70%  50%~59%   \n",
       "3     21-25      M      PM        Law/Legal studies  60%~70%  60%~70%   \n",
       "4     21-25      M      PM                 Business  60%~70%  50%~59%   \n",
       "5     21-25      M      PM        Law/Legal studies  60%~70%  60%~70%   \n",
       "6     21-25      M      PM           Art and Design  60%~70%  60%~70%   \n",
       "...     ...    ...     ...                      ...      ...      ...   \n",
       "4995  18-20      M      PM                 Business  50%~59%  40%~49%   \n",
       "4996  21-25      M      PM                 Business     >70%  50%~59%   \n",
       "4997  18-20      M      PM                 Business  60%~70%  50%~59%   \n",
       "4998  31-35      M      PM                 Business     >70%  60%~70%   \n",
       "4999  21-25      M      PM                 Business  50%~59%  60%~70%   \n",
       "\n",
       "     Attendance  6  7  8  ...  10  11  12  13  14  15  16  17  Score Range  \\\n",
       "1            S3  1  4  3  ...   4   3   4   5   3   2   3   2        35-45   \n",
       "3            S0  4  2  4  ...   2   2   3   3   3   3   4   4        35-45   \n",
       "4            S1  3  2  3  ...   2   3   3   3   3   4   3   4        25-35   \n",
       "5            S0  2  3  4  ...   2   4   1   2   5   1   5   5        35-45   \n",
       "6            S0  4  4  4  ...   4   3   3   5   2   5   5   3          45+   \n",
       "...         ... .. .. ..  ...  ..  ..  ..  ..  ..  ..  ..  ..          ...   \n",
       "4995         S1  2  3  4  ...   5   1   4   3   3   3   4   2        35-45   \n",
       "4996         S0  3  2  5  ...   5   3   2   4   2   3   4   2        35-45   \n",
       "4997         S2  4  2  3  ...   2   2   3   5   1   3   2   3        25-35   \n",
       "4998         S0  4  2  3  ...   4   3   3   4   4   3   2   4        25-35   \n",
       "4999         S1  3  1  3  ...   4   2   2   4   2   2   1   4        25-35   \n",
       "\n",
       "     Total Score  \n",
       "1             38  \n",
       "3             36  \n",
       "4             36  \n",
       "5             35  \n",
       "6             45  \n",
       "...          ...  \n",
       "4995          37  \n",
       "4996          40  \n",
       "4997          33  \n",
       "4998          38  \n",
       "4999          29  \n",
       "\n",
       "[5091 rows x 21 columns]"
      ]
     },
     "execution_count": 21,
     "metadata": {},
     "output_type": "execute_result"
    }
   ],
   "source": [
    "column_score_mapping = {\n",
    "    '6': option_scores6,\n",
    "    '7': option_scores7, \n",
    "    '8': option_scores8,\n",
    "    '9': option_scores9,\n",
    "    '10': option_scores10,\n",
    "    '11': option_scores11,\n",
    "    '12': option_scores12,\n",
    "    '13': option_scores13,\n",
    "    '14': option_scores14,\n",
    "    '15': option_scores15,\n",
    "    '16': option_scores16,\n",
    "    '17': option_scores17,# Replace with the actual name of your dictionary for Column7\n",
    "    # Repeat for other columns\n",
    "}\n",
    "\n",
    "# Iterate through each column and apply the corresponding scores\n",
    "for column in columns_to_sum:\n",
    "    result[column] = result[column].map(column_score_mapping[column])\n",
    "\n",
    "# Sum the scores for each row\n",
    "result['Total Score'] = result[columns_to_sum].sum(axis=1)\n",
    "\n",
    "# Display the DataFrame with the total scores\n",
    "print(result[['Total Score']])\n",
    "result"
   ]
  },
  {
   "cell_type": "code",
   "execution_count": 22,
   "metadata": {},
   "outputs": [],
   "source": [
    "csv_file_path = \"../dataSets/tmpSynthetic1.csv\"\n",
    "result.to_csv(csv_file_path,index=False)\n"
   ]
  },
  {
   "cell_type": "code",
   "execution_count": 23,
   "metadata": {},
   "outputs": [],
   "source": [
    "conditions = [\n",
    "    (result['Total Score'] >= 45),\n",
    "    (result['Total Score'] >= 35) & (result['Total Score'] < 45),\n",
    "    (result['Total Score'] >= 25) & (result['Total Score'] < 35),\n",
    "]\n",
    "\n",
    "choices = ['45+', '35-45', '25-35']\n",
    "result['Score Range'] = np.select(conditions, choices, default='Other')"
   ]
  },
  {
   "cell_type": "code",
   "execution_count": 24,
   "metadata": {},
   "outputs": [],
   "source": [
    "option_scores6 = {\n",
    "    1:'Strong Agree',\n",
    "    2:'Agree',\n",
    "    3:'Neither',\n",
    "    4:'Disagree',\n",
    "    5:'Strong Disagree'\n",
    "}\n",
    "option_scores7 = {\n",
    "    5:'Strong Agree',\n",
    "    4:'Agree',\n",
    "    3:'Neither',\n",
    "    2:'Disagree',\n",
    "    1:'Strong Disagree'\n",
    "}\n",
    "option_scores8 = {\n",
    "    5:'Strong Agree',\n",
    "    4:'Agree',\n",
    "    3:'Neither',\n",
    "    2:'Disagree',\n",
    "    1:'Strong Disagree'\n",
    "}\n",
    "\n",
    "option_scores9 = {\n",
    "    1:'Strong Agree',\n",
    "    2:'Agree',\n",
    "    3:'Neither',\n",
    "    4:'Disagree',\n",
    "    5:'Strong Disagree'\n",
    "}\n",
    "option_scores10 = {\n",
    "    5:'Strong Agree',\n",
    "    4:'Agree',\n",
    "    3:'Neither',\n",
    "    2:'Disagree',\n",
    "    1:'Strong Disagree'\n",
    "}\n",
    "\n",
    "option_scores11 = {\n",
    "    1:'Strong Agree',\n",
    "    2:'Agree',\n",
    "    3:'Neither',\n",
    "    4:'Disagree',\n",
    "    5:'Strong Disagree'\n",
    "}\n",
    "\n",
    "option_scores12 = {\n",
    "    1:'Strong Agree',\n",
    "    2:'Agree',\n",
    "    3:'Neither',\n",
    "    4:'Disagree',\n",
    "    5:'Strong Disagree'\n",
    "}\n",
    "option_scores13 = {\n",
    "    1:'Strong Agree',\n",
    "    2:'Agree',\n",
    "    3:'Neither',\n",
    "    4:'Disagree',\n",
    "    5:'Strong Disagree'\n",
    "}\n",
    "option_scores14 = {\n",
    "    5:'Strong Agree',\n",
    "    4:'Agree',\n",
    "    3:'Neither',\n",
    "    2:'Disagree',\n",
    "    1:'Strong Disagree'\n",
    "}\n",
    "\n",
    "option_scores15 = {\n",
    "    1:'Strong Agree',\n",
    "    2:'Agree',\n",
    "    3:'Neither',\n",
    "    4:'Disagree',\n",
    "    5:'Strong Disagree'\n",
    "}\n",
    "\n",
    "option_scores16 = {\n",
    "    1:'Strong Agree',\n",
    "    2:'Agree',\n",
    "    3:'Neither',\n",
    "    4:'Disagree',\n",
    "    5:'Strong Disagree'\n",
    "}\n",
    "option_scores17 = {\n",
    "    5:'Strong Agree',\n",
    "    4:'Agree',\n",
    "    3:'Neither',\n",
    "    2:'Disagree',\n",
    "    1:'Strong Disagree'\n",
    "}"
   ]
  },
  {
   "cell_type": "code",
   "execution_count": 25,
   "metadata": {},
   "outputs": [],
   "source": [
    "column_score_mapping = {\n",
    "    '6': option_scores6,\n",
    "    '7': option_scores7, \n",
    "    '8': option_scores8,\n",
    "    '9': option_scores9,\n",
    "    '10': option_scores10,\n",
    "    '11': option_scores11,\n",
    "    '12': option_scores12,\n",
    "    '13': option_scores13,\n",
    "    '14': option_scores14,\n",
    "    '15': option_scores15,\n",
    "    '16': option_scores16,\n",
    "    '17': option_scores17,# Replace with the actual name of your dictionary for Column7\n",
    "    # Repeat for other columns\n",
    "}\n",
    "for column in columns_to_sum:\n",
    "    result[column] = result[column].map(column_score_mapping[column])"
   ]
  },
  {
   "cell_type": "code",
   "execution_count": 26,
   "metadata": {},
   "outputs": [
    {
     "data": {
      "text/html": [
       "<div>\n",
       "<style scoped>\n",
       "    .dataframe tbody tr th:only-of-type {\n",
       "        vertical-align: middle;\n",
       "    }\n",
       "\n",
       "    .dataframe tbody tr th {\n",
       "        vertical-align: top;\n",
       "    }\n",
       "\n",
       "    .dataframe thead th {\n",
       "        text-align: right;\n",
       "    }\n",
       "</style>\n",
       "<table border=\"1\" class=\"dataframe\">\n",
       "  <thead>\n",
       "    <tr style=\"text-align: right;\">\n",
       "      <th></th>\n",
       "      <th>Age</th>\n",
       "      <th>Gender</th>\n",
       "      <th>Program</th>\n",
       "      <th>Course</th>\n",
       "      <th>English</th>\n",
       "      <th>Academic</th>\n",
       "      <th>Attendance</th>\n",
       "      <th>6</th>\n",
       "      <th>7</th>\n",
       "      <th>8</th>\n",
       "      <th>...</th>\n",
       "      <th>10</th>\n",
       "      <th>11</th>\n",
       "      <th>12</th>\n",
       "      <th>13</th>\n",
       "      <th>14</th>\n",
       "      <th>15</th>\n",
       "      <th>16</th>\n",
       "      <th>17</th>\n",
       "      <th>Score Range</th>\n",
       "      <th>Total Score</th>\n",
       "    </tr>\n",
       "  </thead>\n",
       "  <tbody>\n",
       "    <tr>\n",
       "      <th>1</th>\n",
       "      <td>26-30</td>\n",
       "      <td>M</td>\n",
       "      <td>PM</td>\n",
       "      <td>Science and engineering</td>\n",
       "      <td>60%~70%</td>\n",
       "      <td>50%~59%</td>\n",
       "      <td>S3</td>\n",
       "      <td>Strong Agree</td>\n",
       "      <td>Agree</td>\n",
       "      <td>Neither</td>\n",
       "      <td>...</td>\n",
       "      <td>Agree</td>\n",
       "      <td>Neither</td>\n",
       "      <td>Disagree</td>\n",
       "      <td>Strong Disagree</td>\n",
       "      <td>Neither</td>\n",
       "      <td>Agree</td>\n",
       "      <td>Neither</td>\n",
       "      <td>Disagree</td>\n",
       "      <td>35-45</td>\n",
       "      <td>38</td>\n",
       "    </tr>\n",
       "    <tr>\n",
       "      <th>3</th>\n",
       "      <td>21-25</td>\n",
       "      <td>M</td>\n",
       "      <td>PM</td>\n",
       "      <td>Law/Legal studies</td>\n",
       "      <td>60%~70%</td>\n",
       "      <td>60%~70%</td>\n",
       "      <td>S0</td>\n",
       "      <td>Disagree</td>\n",
       "      <td>Disagree</td>\n",
       "      <td>Agree</td>\n",
       "      <td>...</td>\n",
       "      <td>Disagree</td>\n",
       "      <td>Agree</td>\n",
       "      <td>Neither</td>\n",
       "      <td>Neither</td>\n",
       "      <td>Neither</td>\n",
       "      <td>Neither</td>\n",
       "      <td>Disagree</td>\n",
       "      <td>Agree</td>\n",
       "      <td>35-45</td>\n",
       "      <td>36</td>\n",
       "    </tr>\n",
       "    <tr>\n",
       "      <th>4</th>\n",
       "      <td>21-25</td>\n",
       "      <td>M</td>\n",
       "      <td>PM</td>\n",
       "      <td>Business</td>\n",
       "      <td>60%~70%</td>\n",
       "      <td>50%~59%</td>\n",
       "      <td>S1</td>\n",
       "      <td>Neither</td>\n",
       "      <td>Disagree</td>\n",
       "      <td>Neither</td>\n",
       "      <td>...</td>\n",
       "      <td>Disagree</td>\n",
       "      <td>Neither</td>\n",
       "      <td>Neither</td>\n",
       "      <td>Neither</td>\n",
       "      <td>Neither</td>\n",
       "      <td>Disagree</td>\n",
       "      <td>Neither</td>\n",
       "      <td>Agree</td>\n",
       "      <td>35-45</td>\n",
       "      <td>36</td>\n",
       "    </tr>\n",
       "    <tr>\n",
       "      <th>5</th>\n",
       "      <td>21-25</td>\n",
       "      <td>M</td>\n",
       "      <td>PM</td>\n",
       "      <td>Law/Legal studies</td>\n",
       "      <td>60%~70%</td>\n",
       "      <td>60%~70%</td>\n",
       "      <td>S0</td>\n",
       "      <td>Agree</td>\n",
       "      <td>Neither</td>\n",
       "      <td>Agree</td>\n",
       "      <td>...</td>\n",
       "      <td>Disagree</td>\n",
       "      <td>Disagree</td>\n",
       "      <td>Strong Agree</td>\n",
       "      <td>Agree</td>\n",
       "      <td>Strong Agree</td>\n",
       "      <td>Strong Agree</td>\n",
       "      <td>Strong Disagree</td>\n",
       "      <td>Strong Agree</td>\n",
       "      <td>35-45</td>\n",
       "      <td>35</td>\n",
       "    </tr>\n",
       "    <tr>\n",
       "      <th>6</th>\n",
       "      <td>21-25</td>\n",
       "      <td>M</td>\n",
       "      <td>PM</td>\n",
       "      <td>Art and Design</td>\n",
       "      <td>60%~70%</td>\n",
       "      <td>60%~70%</td>\n",
       "      <td>S0</td>\n",
       "      <td>Disagree</td>\n",
       "      <td>Agree</td>\n",
       "      <td>Agree</td>\n",
       "      <td>...</td>\n",
       "      <td>Agree</td>\n",
       "      <td>Neither</td>\n",
       "      <td>Neither</td>\n",
       "      <td>Strong Disagree</td>\n",
       "      <td>Disagree</td>\n",
       "      <td>Strong Disagree</td>\n",
       "      <td>Strong Disagree</td>\n",
       "      <td>Neither</td>\n",
       "      <td>45+</td>\n",
       "      <td>45</td>\n",
       "    </tr>\n",
       "  </tbody>\n",
       "</table>\n",
       "<p>5 rows × 21 columns</p>\n",
       "</div>"
      ],
      "text/plain": [
       "     Age Gender Program                   Course  English Academic Attendance  \\\n",
       "1  26-30      M      PM  Science and engineering  60%~70%  50%~59%         S3   \n",
       "3  21-25      M      PM        Law/Legal studies  60%~70%  60%~70%         S0   \n",
       "4  21-25      M      PM                 Business  60%~70%  50%~59%         S1   \n",
       "5  21-25      M      PM        Law/Legal studies  60%~70%  60%~70%         S0   \n",
       "6  21-25      M      PM           Art and Design  60%~70%  60%~70%         S0   \n",
       "\n",
       "              6         7        8  ...        10        11            12  \\\n",
       "1  Strong Agree     Agree  Neither  ...     Agree   Neither      Disagree   \n",
       "3      Disagree  Disagree    Agree  ...  Disagree     Agree       Neither   \n",
       "4       Neither  Disagree  Neither  ...  Disagree   Neither       Neither   \n",
       "5         Agree   Neither    Agree  ...  Disagree  Disagree  Strong Agree   \n",
       "6      Disagree     Agree    Agree  ...     Agree   Neither       Neither   \n",
       "\n",
       "                13            14               15               16  \\\n",
       "1  Strong Disagree       Neither            Agree          Neither   \n",
       "3          Neither       Neither          Neither         Disagree   \n",
       "4          Neither       Neither         Disagree          Neither   \n",
       "5            Agree  Strong Agree     Strong Agree  Strong Disagree   \n",
       "6  Strong Disagree      Disagree  Strong Disagree  Strong Disagree   \n",
       "\n",
       "             17 Score Range Total Score  \n",
       "1      Disagree       35-45          38  \n",
       "3         Agree       35-45          36  \n",
       "4         Agree       35-45          36  \n",
       "5  Strong Agree       35-45          35  \n",
       "6       Neither         45+          45  \n",
       "\n",
       "[5 rows x 21 columns]"
      ]
     },
     "execution_count": 26,
     "metadata": {},
     "output_type": "execute_result"
    }
   ],
   "source": [
    "result.head()"
   ]
  },
  {
   "cell_type": "code",
   "execution_count": 27,
   "metadata": {},
   "outputs": [],
   "source": [
    "\n",
    "result = result.drop(\"Total Score\",axis = 1)\n",
    "\n",
    "csv_file_path = \"../dataSets/tmpSynthetic.csv\"\n",
    "result.to_csv(csv_file_path,index=False)"
   ]
  },
  {
   "cell_type": "code",
   "execution_count": 28,
   "metadata": {},
   "outputs": [],
   "source": [
    "from sklearn.model_selection import train_test_split\n",
    "from sklearn import metrics \n",
    "from sklearn.metrics import accuracy_score, precision_score, recall_score, f1_score, confusion_matrix\n",
    "from sklearn.ensemble import RandomForestClassifier\n",
    "from sklearn.tree import DecisionTreeClassifier, plot_tree \n",
    "from sklearn import svm\n",
    "from sklearn.neighbors import KNeighborsClassifier\n",
    "from sklearn.ensemble import GradientBoostingClassifier"
   ]
  },
  {
   "cell_type": "code",
   "execution_count": 29,
   "metadata": {},
   "outputs": [
    {
     "name": "stdout",
     "output_type": "stream",
     "text": [
      "['Age', 'Gender', 'Program', 'Course', 'English', 'Academic', 'Attendance', '6', '7', '8', '9', '10', '11', '12', '13', '14', '15', '16', '17', 'Score Range']\n"
     ]
    }
   ],
   "source": [
    "col_list_obj = result.select_dtypes(include=[\"object\"]).columns.to_list()\n",
    "print(col_list_obj)"
   ]
  },
  {
   "cell_type": "code",
   "execution_count": 30,
   "metadata": {},
   "outputs": [],
   "source": [
    "def labelEncoding(result, columns):\n",
    "    encoders = {}\n",
    "    for col in columns:\n",
    "        le = preprocessing.LabelEncoder().fit(result[col])\n",
    "        result[col] = le.transform(result[col])\n",
    "        encoders[col] = le\n",
    "    return result, encoders"
   ]
  },
  {
   "cell_type": "code",
   "execution_count": 31,
   "metadata": {},
   "outputs": [],
   "source": [
    "def label_encode_columns_w_fit_encoders(result, columns, encoders):\n",
    "    for col in columns:\n",
    "        le = encoders.get(col)\n",
    "        result[col] = le.transform(result[col])\n",
    "    return result"
   ]
  },
  {
   "cell_type": "code",
   "execution_count": 32,
   "metadata": {},
   "outputs": [
    {
     "data": {
      "text/plain": [
       "['fit.joblib']"
      ]
     },
     "execution_count": 32,
     "metadata": {},
     "output_type": "execute_result"
    }
   ],
   "source": [
    "joblib.dump(label_encode_columns_w_fit_encoders, \"fit.joblib\")"
   ]
  },
  {
   "cell_type": "code",
   "execution_count": 33,
   "metadata": {},
   "outputs": [
    {
     "name": "stdout",
     "output_type": "stream",
     "text": [
      "   Age  Gender  Program  Course  English  Academic  Attendance  6  7  8  9  \\\n",
      "1    2       1        3       5        2         1           3  3  0  2  1   \n",
      "3    1       1        3       3        2         2           0  1  1  0  0   \n",
      "4    1       1        3       1        2         1           1  2  1  2  2   \n",
      "5    1       1        3       3        2         2           0  0  2  0  3   \n",
      "6    1       1        3       0        2         2           0  1  0  0  2   \n",
      "\n",
      "   10  11  12  13  14  15  16  17  Score Range  \n",
      "1   0   2   1   4   2   0   2   1            1  \n",
      "3   1   0   2   2   2   2   1   0            1  \n",
      "4   1   2   2   2   2   1   2   0            1  \n",
      "5   1   1   3   0   3   3   4   3            1  \n",
      "6   0   2   2   4   1   4   4   2            2  \n"
     ]
    }
   ],
   "source": [
    "result, label_encoders = labelEncoding(result, col_list_obj)\n",
    "print(result.head())"
   ]
  },
  {
   "cell_type": "code",
   "execution_count": 34,
   "metadata": {},
   "outputs": [
    {
     "data": {
      "text/plain": [
       "Age            int32\n",
       "Gender         int32\n",
       "Program        int32\n",
       "Course         int32\n",
       "English        int32\n",
       "Academic       int32\n",
       "Attendance     int32\n",
       "6              int32\n",
       "7              int32\n",
       "8              int32\n",
       "9              int32\n",
       "10             int32\n",
       "11             int32\n",
       "12             int32\n",
       "13             int32\n",
       "14             int32\n",
       "15             int32\n",
       "16             int32\n",
       "17             int32\n",
       "Score Range    int32\n",
       "dtype: object"
      ]
     },
     "execution_count": 34,
     "metadata": {},
     "output_type": "execute_result"
    }
   ],
   "source": [
    "result.dtypes"
   ]
  },
  {
   "cell_type": "code",
   "execution_count": 35,
   "metadata": {},
   "outputs": [],
   "source": [
    "X = result.drop(columns = \"Score Range\",axis=1)\n",
    "y = result[\"Score Range\"]"
   ]
  },
  {
   "cell_type": "code",
   "execution_count": 36,
   "metadata": {},
   "outputs": [
    {
     "name": "stdout",
     "output_type": "stream",
     "text": [
      "      Age  Gender  Program  Course  English  Academic  Attendance  6  7  8  9  \\\n",
      "1       2       1        3       5        2         1           3  3  0  2  1   \n",
      "3       1       1        3       3        2         2           0  1  1  0  0   \n",
      "4       1       1        3       1        2         1           1  2  1  2  2   \n",
      "5       1       1        3       3        2         2           0  0  2  0  3   \n",
      "6       1       1        3       0        2         2           0  1  0  0  2   \n",
      "...   ...     ...      ...     ...      ...       ...         ... .. .. .. ..   \n",
      "4995    0       1        3       1        1         0           1  0  2  0  2   \n",
      "4996    1       1        3       1        3         1           0  2  1  3  4   \n",
      "4997    0       1        3       1        2         1           2  1  1  2  2   \n",
      "4998    3       1        3       1        3         2           0  1  1  2  0   \n",
      "4999    1       1        3       1        1         2           1  2  4  2  3   \n",
      "\n",
      "      10  11  12  13  14  15  16  17  \n",
      "1      0   2   1   4   2   0   2   1  \n",
      "3      1   0   2   2   2   2   1   0  \n",
      "4      1   2   2   2   2   1   2   0  \n",
      "5      1   1   3   0   3   3   4   3  \n",
      "6      0   2   2   4   1   4   4   2  \n",
      "...   ..  ..  ..  ..  ..  ..  ..  ..  \n",
      "4995   3   3   1   2   2   2   1   1  \n",
      "4996   3   2   0   1   1   2   1   1  \n",
      "4997   1   0   2   4   4   2   0   2  \n",
      "4998   0   2   2   1   0   2   0   0  \n",
      "4999   0   0   0   1   1   0   3   0  \n",
      "\n",
      "[5091 rows x 19 columns]\n",
      "1       1\n",
      "3       1\n",
      "4       1\n",
      "5       1\n",
      "6       2\n",
      "       ..\n",
      "4995    1\n",
      "4996    1\n",
      "4997    0\n",
      "4998    1\n",
      "4999    0\n",
      "Name: Score Range, Length: 5091, dtype: int32\n"
     ]
    }
   ],
   "source": [
    "print(X)\n",
    "print(y)"
   ]
  },
  {
   "cell_type": "code",
   "execution_count": 37,
   "metadata": {},
   "outputs": [],
   "source": [
    "X_train, X_test, y_train, y_test = train_test_split(X, y, test_size=0.2, random_state=42)"
   ]
  },
  {
   "cell_type": "code",
   "execution_count": 38,
   "metadata": {},
   "outputs": [],
   "source": [
    "def pred_metrics(model, X_train, y_train, X_test, y_test):\n",
    "    print('----- Train -----')\n",
    "    y_pred_train = model.predict(X_train)\n",
    "    print('Misclassified samples: {}'.format((y_train != y_pred_train).sum()))\n",
    "    print('Accuracy: {:.2f}'.format(accuracy_score(y_train, y_pred_train)))\n",
    "    print('Precision: {:.2f}'.format(precision_score(y_train, y_pred_train, average='weighted')))\n",
    "    print('Recall: {:.2f}'.format(recall_score(y_train, y_pred_train, average='weighted')))\n",
    "    print('F1: {:.2f}'.format(f1_score(y_train, y_pred_train, average='weighted')))\n",
    "    \n",
    "    print('\\n----- Test -----')\n",
    "    y_pred_test = model.predict(X_test)\n",
    "    print('Misclassified samples: {}'.format((y_test != y_pred_test).sum()))\n",
    "    print('Accuracy: {:.2f}'.format(accuracy_score(y_test, y_pred_test)))\n",
    "    print('Precision: {:.2f}'.format(precision_score(y_test, y_pred_test, average='weighted')))\n",
    "    print('Recall: {:.2f}'.format(recall_score(y_test, y_pred_test, average='weighted')))\n",
    "    print('F1: {:.2f}'.format(f1_score(y_test, y_pred_test, average='weighted')))\n",
    "    \n",
    "    return y_pred_test"
   ]
  },
  {
   "cell_type": "code",
   "execution_count": 39,
   "metadata": {},
   "outputs": [
    {
     "data": {
      "text/html": [
       "<style>#sk-container-id-1 {color: black;}#sk-container-id-1 pre{padding: 0;}#sk-container-id-1 div.sk-toggleable {background-color: white;}#sk-container-id-1 label.sk-toggleable__label {cursor: pointer;display: block;width: 100%;margin-bottom: 0;padding: 0.3em;box-sizing: border-box;text-align: center;}#sk-container-id-1 label.sk-toggleable__label-arrow:before {content: \"▸\";float: left;margin-right: 0.25em;color: #696969;}#sk-container-id-1 label.sk-toggleable__label-arrow:hover:before {color: black;}#sk-container-id-1 div.sk-estimator:hover label.sk-toggleable__label-arrow:before {color: black;}#sk-container-id-1 div.sk-toggleable__content {max-height: 0;max-width: 0;overflow: hidden;text-align: left;background-color: #f0f8ff;}#sk-container-id-1 div.sk-toggleable__content pre {margin: 0.2em;color: black;border-radius: 0.25em;background-color: #f0f8ff;}#sk-container-id-1 input.sk-toggleable__control:checked~div.sk-toggleable__content {max-height: 200px;max-width: 100%;overflow: auto;}#sk-container-id-1 input.sk-toggleable__control:checked~label.sk-toggleable__label-arrow:before {content: \"▾\";}#sk-container-id-1 div.sk-estimator input.sk-toggleable__control:checked~label.sk-toggleable__label {background-color: #d4ebff;}#sk-container-id-1 div.sk-label input.sk-toggleable__control:checked~label.sk-toggleable__label {background-color: #d4ebff;}#sk-container-id-1 input.sk-hidden--visually {border: 0;clip: rect(1px 1px 1px 1px);clip: rect(1px, 1px, 1px, 1px);height: 1px;margin: -1px;overflow: hidden;padding: 0;position: absolute;width: 1px;}#sk-container-id-1 div.sk-estimator {font-family: monospace;background-color: #f0f8ff;border: 1px dotted black;border-radius: 0.25em;box-sizing: border-box;margin-bottom: 0.5em;}#sk-container-id-1 div.sk-estimator:hover {background-color: #d4ebff;}#sk-container-id-1 div.sk-parallel-item::after {content: \"\";width: 100%;border-bottom: 1px solid gray;flex-grow: 1;}#sk-container-id-1 div.sk-label:hover label.sk-toggleable__label {background-color: #d4ebff;}#sk-container-id-1 div.sk-serial::before {content: \"\";position: absolute;border-left: 1px solid gray;box-sizing: border-box;top: 0;bottom: 0;left: 50%;z-index: 0;}#sk-container-id-1 div.sk-serial {display: flex;flex-direction: column;align-items: center;background-color: white;padding-right: 0.2em;padding-left: 0.2em;position: relative;}#sk-container-id-1 div.sk-item {position: relative;z-index: 1;}#sk-container-id-1 div.sk-parallel {display: flex;align-items: stretch;justify-content: center;background-color: white;position: relative;}#sk-container-id-1 div.sk-item::before, #sk-container-id-1 div.sk-parallel-item::before {content: \"\";position: absolute;border-left: 1px solid gray;box-sizing: border-box;top: 0;bottom: 0;left: 50%;z-index: -1;}#sk-container-id-1 div.sk-parallel-item {display: flex;flex-direction: column;z-index: 1;position: relative;background-color: white;}#sk-container-id-1 div.sk-parallel-item:first-child::after {align-self: flex-end;width: 50%;}#sk-container-id-1 div.sk-parallel-item:last-child::after {align-self: flex-start;width: 50%;}#sk-container-id-1 div.sk-parallel-item:only-child::after {width: 0;}#sk-container-id-1 div.sk-dashed-wrapped {border: 1px dashed gray;margin: 0 0.4em 0.5em 0.4em;box-sizing: border-box;padding-bottom: 0.4em;background-color: white;}#sk-container-id-1 div.sk-label label {font-family: monospace;font-weight: bold;display: inline-block;line-height: 1.2em;}#sk-container-id-1 div.sk-label-container {text-align: center;}#sk-container-id-1 div.sk-container {/* jupyter's `normalize.less` sets `[hidden] { display: none; }` but bootstrap.min.css set `[hidden] { display: none !important; }` so we also need the `!important` here to be able to override the default hidden behavior on the sphinx rendered scikit-learn.org. See: https://github.com/scikit-learn/scikit-learn/issues/21755 */display: inline-block !important;position: relative;}#sk-container-id-1 div.sk-text-repr-fallback {display: none;}</style><div id=\"sk-container-id-1\" class=\"sk-top-container\"><div class=\"sk-text-repr-fallback\"><pre>DecisionTreeClassifier(max_depth=5, max_leaf_nodes=17)</pre><b>In a Jupyter environment, please rerun this cell to show the HTML representation or trust the notebook. <br />On GitHub, the HTML representation is unable to render, please try loading this page with nbviewer.org.</b></div><div class=\"sk-container\" hidden><div class=\"sk-item\"><div class=\"sk-estimator sk-toggleable\"><input class=\"sk-toggleable__control sk-hidden--visually\" id=\"sk-estimator-id-1\" type=\"checkbox\" checked><label for=\"sk-estimator-id-1\" class=\"sk-toggleable__label sk-toggleable__label-arrow\">DecisionTreeClassifier</label><div class=\"sk-toggleable__content\"><pre>DecisionTreeClassifier(max_depth=5, max_leaf_nodes=17)</pre></div></div></div></div></div>"
      ],
      "text/plain": [
       "DecisionTreeClassifier(max_depth=5, max_leaf_nodes=17)"
      ]
     },
     "execution_count": 39,
     "metadata": {},
     "output_type": "execute_result"
    }
   ],
   "source": [
    "dectree = DecisionTreeClassifier(max_depth=5, max_leaf_nodes=17)\n",
    "dectree.fit(X_train, y_train)"
   ]
  },
  {
   "cell_type": "code",
   "execution_count": 40,
   "metadata": {},
   "outputs": [
    {
     "name": "stdout",
     "output_type": "stream",
     "text": [
      "----- Train -----\n",
      "Misclassified samples: 931\n",
      "Accuracy: 0.77\n",
      "Precision: 0.74\n",
      "Recall: 0.77\n",
      "F1: 0.71\n",
      "\n",
      "----- Test -----\n",
      "Misclassified samples: 210\n",
      "Accuracy: 0.79\n",
      "Precision: 0.76\n",
      "Recall: 0.79\n",
      "F1: 0.74\n"
     ]
    },
    {
     "name": "stderr",
     "output_type": "stream",
     "text": [
      "C:\\Users\\tatev\\AppData\\Local\\Packages\\PythonSoftwareFoundation.Python.3.10_qbz5n2kfra8p0\\LocalCache\\local-packages\\Python310\\site-packages\\sklearn\\metrics\\_classification.py:1469: UndefinedMetricWarning: Precision is ill-defined and being set to 0.0 in labels with no predicted samples. Use `zero_division` parameter to control this behavior.\n",
      "  _warn_prf(average, modifier, msg_start, len(result))\n",
      "C:\\Users\\tatev\\AppData\\Local\\Packages\\PythonSoftwareFoundation.Python.3.10_qbz5n2kfra8p0\\LocalCache\\local-packages\\Python310\\site-packages\\sklearn\\metrics\\_classification.py:1469: UndefinedMetricWarning: Precision is ill-defined and being set to 0.0 in labels with no predicted samples. Use `zero_division` parameter to control this behavior.\n",
      "  _warn_prf(average, modifier, msg_start, len(result))\n"
     ]
    },
    {
     "data": {
      "text/plain": [
       "array([1, 1, 1, ..., 1, 1, 1])"
      ]
     },
     "execution_count": 40,
     "metadata": {},
     "output_type": "execute_result"
    }
   ],
   "source": [
    "pred_metrics(dectree, X_train, y_train, X_test, y_test)"
   ]
  },
  {
   "cell_type": "code",
   "execution_count": 41,
   "metadata": {},
   "outputs": [],
   "source": [
    "svm_m = svm.SVC().fit(X_train, y_train)"
   ]
  },
  {
   "cell_type": "code",
   "execution_count": 42,
   "metadata": {},
   "outputs": [
    {
     "name": "stdout",
     "output_type": "stream",
     "text": [
      "----- Train -----\n",
      "Misclassified samples: 982\n",
      "Accuracy: 0.76\n",
      "Precision: 0.81\n",
      "Recall: 0.76\n",
      "F1: 0.66\n",
      "\n",
      "----- Test -----\n"
     ]
    },
    {
     "name": "stderr",
     "output_type": "stream",
     "text": [
      "C:\\Users\\tatev\\AppData\\Local\\Packages\\PythonSoftwareFoundation.Python.3.10_qbz5n2kfra8p0\\LocalCache\\local-packages\\Python310\\site-packages\\sklearn\\metrics\\_classification.py:1469: UndefinedMetricWarning: Precision is ill-defined and being set to 0.0 in labels with no predicted samples. Use `zero_division` parameter to control this behavior.\n",
      "  _warn_prf(average, modifier, msg_start, len(result))\n"
     ]
    },
    {
     "name": "stdout",
     "output_type": "stream",
     "text": [
      "Misclassified samples: 229\n",
      "Accuracy: 0.78\n",
      "Precision: 0.60\n",
      "Recall: 0.78\n",
      "F1: 0.68\n"
     ]
    },
    {
     "name": "stderr",
     "output_type": "stream",
     "text": [
      "C:\\Users\\tatev\\AppData\\Local\\Packages\\PythonSoftwareFoundation.Python.3.10_qbz5n2kfra8p0\\LocalCache\\local-packages\\Python310\\site-packages\\sklearn\\metrics\\_classification.py:1469: UndefinedMetricWarning: Precision is ill-defined and being set to 0.0 in labels with no predicted samples. Use `zero_division` parameter to control this behavior.\n",
      "  _warn_prf(average, modifier, msg_start, len(result))\n"
     ]
    },
    {
     "data": {
      "text/plain": [
       "array([1, 1, 1, ..., 1, 1, 1])"
      ]
     },
     "execution_count": 42,
     "metadata": {},
     "output_type": "execute_result"
    }
   ],
   "source": [
    "pred_metrics(svm_m, X_train, y_train, X_test, y_test)"
   ]
  },
  {
   "cell_type": "code",
   "execution_count": 43,
   "metadata": {},
   "outputs": [
    {
     "data": {
      "text/html": [
       "<style>#sk-container-id-2 {color: black;}#sk-container-id-2 pre{padding: 0;}#sk-container-id-2 div.sk-toggleable {background-color: white;}#sk-container-id-2 label.sk-toggleable__label {cursor: pointer;display: block;width: 100%;margin-bottom: 0;padding: 0.3em;box-sizing: border-box;text-align: center;}#sk-container-id-2 label.sk-toggleable__label-arrow:before {content: \"▸\";float: left;margin-right: 0.25em;color: #696969;}#sk-container-id-2 label.sk-toggleable__label-arrow:hover:before {color: black;}#sk-container-id-2 div.sk-estimator:hover label.sk-toggleable__label-arrow:before {color: black;}#sk-container-id-2 div.sk-toggleable__content {max-height: 0;max-width: 0;overflow: hidden;text-align: left;background-color: #f0f8ff;}#sk-container-id-2 div.sk-toggleable__content pre {margin: 0.2em;color: black;border-radius: 0.25em;background-color: #f0f8ff;}#sk-container-id-2 input.sk-toggleable__control:checked~div.sk-toggleable__content {max-height: 200px;max-width: 100%;overflow: auto;}#sk-container-id-2 input.sk-toggleable__control:checked~label.sk-toggleable__label-arrow:before {content: \"▾\";}#sk-container-id-2 div.sk-estimator input.sk-toggleable__control:checked~label.sk-toggleable__label {background-color: #d4ebff;}#sk-container-id-2 div.sk-label input.sk-toggleable__control:checked~label.sk-toggleable__label {background-color: #d4ebff;}#sk-container-id-2 input.sk-hidden--visually {border: 0;clip: rect(1px 1px 1px 1px);clip: rect(1px, 1px, 1px, 1px);height: 1px;margin: -1px;overflow: hidden;padding: 0;position: absolute;width: 1px;}#sk-container-id-2 div.sk-estimator {font-family: monospace;background-color: #f0f8ff;border: 1px dotted black;border-radius: 0.25em;box-sizing: border-box;margin-bottom: 0.5em;}#sk-container-id-2 div.sk-estimator:hover {background-color: #d4ebff;}#sk-container-id-2 div.sk-parallel-item::after {content: \"\";width: 100%;border-bottom: 1px solid gray;flex-grow: 1;}#sk-container-id-2 div.sk-label:hover label.sk-toggleable__label {background-color: #d4ebff;}#sk-container-id-2 div.sk-serial::before {content: \"\";position: absolute;border-left: 1px solid gray;box-sizing: border-box;top: 0;bottom: 0;left: 50%;z-index: 0;}#sk-container-id-2 div.sk-serial {display: flex;flex-direction: column;align-items: center;background-color: white;padding-right: 0.2em;padding-left: 0.2em;position: relative;}#sk-container-id-2 div.sk-item {position: relative;z-index: 1;}#sk-container-id-2 div.sk-parallel {display: flex;align-items: stretch;justify-content: center;background-color: white;position: relative;}#sk-container-id-2 div.sk-item::before, #sk-container-id-2 div.sk-parallel-item::before {content: \"\";position: absolute;border-left: 1px solid gray;box-sizing: border-box;top: 0;bottom: 0;left: 50%;z-index: -1;}#sk-container-id-2 div.sk-parallel-item {display: flex;flex-direction: column;z-index: 1;position: relative;background-color: white;}#sk-container-id-2 div.sk-parallel-item:first-child::after {align-self: flex-end;width: 50%;}#sk-container-id-2 div.sk-parallel-item:last-child::after {align-self: flex-start;width: 50%;}#sk-container-id-2 div.sk-parallel-item:only-child::after {width: 0;}#sk-container-id-2 div.sk-dashed-wrapped {border: 1px dashed gray;margin: 0 0.4em 0.5em 0.4em;box-sizing: border-box;padding-bottom: 0.4em;background-color: white;}#sk-container-id-2 div.sk-label label {font-family: monospace;font-weight: bold;display: inline-block;line-height: 1.2em;}#sk-container-id-2 div.sk-label-container {text-align: center;}#sk-container-id-2 div.sk-container {/* jupyter's `normalize.less` sets `[hidden] { display: none; }` but bootstrap.min.css set `[hidden] { display: none !important; }` so we also need the `!important` here to be able to override the default hidden behavior on the sphinx rendered scikit-learn.org. See: https://github.com/scikit-learn/scikit-learn/issues/21755 */display: inline-block !important;position: relative;}#sk-container-id-2 div.sk-text-repr-fallback {display: none;}</style><div id=\"sk-container-id-2\" class=\"sk-top-container\"><div class=\"sk-text-repr-fallback\"><pre>RandomForestClassifier(max_depth=5, max_leaf_nodes=17, random_state=0)</pre><b>In a Jupyter environment, please rerun this cell to show the HTML representation or trust the notebook. <br />On GitHub, the HTML representation is unable to render, please try loading this page with nbviewer.org.</b></div><div class=\"sk-container\" hidden><div class=\"sk-item\"><div class=\"sk-estimator sk-toggleable\"><input class=\"sk-toggleable__control sk-hidden--visually\" id=\"sk-estimator-id-2\" type=\"checkbox\" checked><label for=\"sk-estimator-id-2\" class=\"sk-toggleable__label sk-toggleable__label-arrow\">RandomForestClassifier</label><div class=\"sk-toggleable__content\"><pre>RandomForestClassifier(max_depth=5, max_leaf_nodes=17, random_state=0)</pre></div></div></div></div></div>"
      ],
      "text/plain": [
       "RandomForestClassifier(max_depth=5, max_leaf_nodes=17, random_state=0)"
      ]
     },
     "execution_count": 43,
     "metadata": {},
     "output_type": "execute_result"
    }
   ],
   "source": [
    "rfc = RandomForestClassifier(n_estimators=100, max_depth=5, max_leaf_nodes=17, random_state=0)\n",
    "rfc.fit(X_train, y_train)"
   ]
  },
  {
   "cell_type": "code",
   "execution_count": 44,
   "metadata": {},
   "outputs": [
    {
     "name": "stdout",
     "output_type": "stream",
     "text": [
      "----- Train -----\n",
      "Misclassified samples: 986\n",
      "Accuracy: 0.76\n",
      "Precision: 0.81\n",
      "Recall: 0.76\n",
      "F1: 0.65\n",
      "\n",
      "----- Test -----\n",
      "Misclassified samples: 227\n",
      "Accuracy: 0.78\n",
      "Precision: 0.82\n",
      "Recall: 0.78\n",
      "F1: 0.68\n"
     ]
    },
    {
     "name": "stderr",
     "output_type": "stream",
     "text": [
      "C:\\Users\\tatev\\AppData\\Local\\Packages\\PythonSoftwareFoundation.Python.3.10_qbz5n2kfra8p0\\LocalCache\\local-packages\\Python310\\site-packages\\sklearn\\metrics\\_classification.py:1469: UndefinedMetricWarning: Precision is ill-defined and being set to 0.0 in labels with no predicted samples. Use `zero_division` parameter to control this behavior.\n",
      "  _warn_prf(average, modifier, msg_start, len(result))\n",
      "C:\\Users\\tatev\\AppData\\Local\\Packages\\PythonSoftwareFoundation.Python.3.10_qbz5n2kfra8p0\\LocalCache\\local-packages\\Python310\\site-packages\\sklearn\\metrics\\_classification.py:1469: UndefinedMetricWarning: Precision is ill-defined and being set to 0.0 in labels with no predicted samples. Use `zero_division` parameter to control this behavior.\n",
      "  _warn_prf(average, modifier, msg_start, len(result))\n"
     ]
    },
    {
     "data": {
      "text/plain": [
       "array([1, 1, 1, ..., 1, 1, 1])"
      ]
     },
     "execution_count": 44,
     "metadata": {},
     "output_type": "execute_result"
    }
   ],
   "source": [
    "pred_metrics(rfc, X_train, y_train, X_test, y_test)"
   ]
  },
  {
   "cell_type": "code",
   "execution_count": 47,
   "metadata": {},
   "outputs": [
    {
     "data": {
      "text/html": [
       "<style>#sk-container-id-4 {color: black;}#sk-container-id-4 pre{padding: 0;}#sk-container-id-4 div.sk-toggleable {background-color: white;}#sk-container-id-4 label.sk-toggleable__label {cursor: pointer;display: block;width: 100%;margin-bottom: 0;padding: 0.3em;box-sizing: border-box;text-align: center;}#sk-container-id-4 label.sk-toggleable__label-arrow:before {content: \"▸\";float: left;margin-right: 0.25em;color: #696969;}#sk-container-id-4 label.sk-toggleable__label-arrow:hover:before {color: black;}#sk-container-id-4 div.sk-estimator:hover label.sk-toggleable__label-arrow:before {color: black;}#sk-container-id-4 div.sk-toggleable__content {max-height: 0;max-width: 0;overflow: hidden;text-align: left;background-color: #f0f8ff;}#sk-container-id-4 div.sk-toggleable__content pre {margin: 0.2em;color: black;border-radius: 0.25em;background-color: #f0f8ff;}#sk-container-id-4 input.sk-toggleable__control:checked~div.sk-toggleable__content {max-height: 200px;max-width: 100%;overflow: auto;}#sk-container-id-4 input.sk-toggleable__control:checked~label.sk-toggleable__label-arrow:before {content: \"▾\";}#sk-container-id-4 div.sk-estimator input.sk-toggleable__control:checked~label.sk-toggleable__label {background-color: #d4ebff;}#sk-container-id-4 div.sk-label input.sk-toggleable__control:checked~label.sk-toggleable__label {background-color: #d4ebff;}#sk-container-id-4 input.sk-hidden--visually {border: 0;clip: rect(1px 1px 1px 1px);clip: rect(1px, 1px, 1px, 1px);height: 1px;margin: -1px;overflow: hidden;padding: 0;position: absolute;width: 1px;}#sk-container-id-4 div.sk-estimator {font-family: monospace;background-color: #f0f8ff;border: 1px dotted black;border-radius: 0.25em;box-sizing: border-box;margin-bottom: 0.5em;}#sk-container-id-4 div.sk-estimator:hover {background-color: #d4ebff;}#sk-container-id-4 div.sk-parallel-item::after {content: \"\";width: 100%;border-bottom: 1px solid gray;flex-grow: 1;}#sk-container-id-4 div.sk-label:hover label.sk-toggleable__label {background-color: #d4ebff;}#sk-container-id-4 div.sk-serial::before {content: \"\";position: absolute;border-left: 1px solid gray;box-sizing: border-box;top: 0;bottom: 0;left: 50%;z-index: 0;}#sk-container-id-4 div.sk-serial {display: flex;flex-direction: column;align-items: center;background-color: white;padding-right: 0.2em;padding-left: 0.2em;position: relative;}#sk-container-id-4 div.sk-item {position: relative;z-index: 1;}#sk-container-id-4 div.sk-parallel {display: flex;align-items: stretch;justify-content: center;background-color: white;position: relative;}#sk-container-id-4 div.sk-item::before, #sk-container-id-4 div.sk-parallel-item::before {content: \"\";position: absolute;border-left: 1px solid gray;box-sizing: border-box;top: 0;bottom: 0;left: 50%;z-index: -1;}#sk-container-id-4 div.sk-parallel-item {display: flex;flex-direction: column;z-index: 1;position: relative;background-color: white;}#sk-container-id-4 div.sk-parallel-item:first-child::after {align-self: flex-end;width: 50%;}#sk-container-id-4 div.sk-parallel-item:last-child::after {align-self: flex-start;width: 50%;}#sk-container-id-4 div.sk-parallel-item:only-child::after {width: 0;}#sk-container-id-4 div.sk-dashed-wrapped {border: 1px dashed gray;margin: 0 0.4em 0.5em 0.4em;box-sizing: border-box;padding-bottom: 0.4em;background-color: white;}#sk-container-id-4 div.sk-label label {font-family: monospace;font-weight: bold;display: inline-block;line-height: 1.2em;}#sk-container-id-4 div.sk-label-container {text-align: center;}#sk-container-id-4 div.sk-container {/* jupyter's `normalize.less` sets `[hidden] { display: none; }` but bootstrap.min.css set `[hidden] { display: none !important; }` so we also need the `!important` here to be able to override the default hidden behavior on the sphinx rendered scikit-learn.org. See: https://github.com/scikit-learn/scikit-learn/issues/21755 */display: inline-block !important;position: relative;}#sk-container-id-4 div.sk-text-repr-fallback {display: none;}</style><div id=\"sk-container-id-4\" class=\"sk-top-container\"><div class=\"sk-text-repr-fallback\"><pre>KNeighborsClassifier()</pre><b>In a Jupyter environment, please rerun this cell to show the HTML representation or trust the notebook. <br />On GitHub, the HTML representation is unable to render, please try loading this page with nbviewer.org.</b></div><div class=\"sk-container\" hidden><div class=\"sk-item\"><div class=\"sk-estimator sk-toggleable\"><input class=\"sk-toggleable__control sk-hidden--visually\" id=\"sk-estimator-id-4\" type=\"checkbox\" checked><label for=\"sk-estimator-id-4\" class=\"sk-toggleable__label sk-toggleable__label-arrow\">KNeighborsClassifier</label><div class=\"sk-toggleable__content\"><pre>KNeighborsClassifier()</pre></div></div></div></div></div>"
      ],
      "text/plain": [
       "KNeighborsClassifier()"
      ]
     },
     "execution_count": 47,
     "metadata": {},
     "output_type": "execute_result"
    }
   ],
   "source": [
    "knn = KNeighborsClassifier(n_neighbors=5)\n",
    "knn.fit(X_train, y_train)"
   ]
  },
  {
   "cell_type": "code",
   "execution_count": 64,
   "metadata": {},
   "outputs": [],
   "source": [
    "# pred_metrics(knn, X_train, y_train, X_test, y_test)"
   ]
  },
  {
   "cell_type": "code",
   "execution_count": 49,
   "metadata": {},
   "outputs": [
    {
     "data": {
      "text/html": [
       "<style>#sk-container-id-5 {color: black;}#sk-container-id-5 pre{padding: 0;}#sk-container-id-5 div.sk-toggleable {background-color: white;}#sk-container-id-5 label.sk-toggleable__label {cursor: pointer;display: block;width: 100%;margin-bottom: 0;padding: 0.3em;box-sizing: border-box;text-align: center;}#sk-container-id-5 label.sk-toggleable__label-arrow:before {content: \"▸\";float: left;margin-right: 0.25em;color: #696969;}#sk-container-id-5 label.sk-toggleable__label-arrow:hover:before {color: black;}#sk-container-id-5 div.sk-estimator:hover label.sk-toggleable__label-arrow:before {color: black;}#sk-container-id-5 div.sk-toggleable__content {max-height: 0;max-width: 0;overflow: hidden;text-align: left;background-color: #f0f8ff;}#sk-container-id-5 div.sk-toggleable__content pre {margin: 0.2em;color: black;border-radius: 0.25em;background-color: #f0f8ff;}#sk-container-id-5 input.sk-toggleable__control:checked~div.sk-toggleable__content {max-height: 200px;max-width: 100%;overflow: auto;}#sk-container-id-5 input.sk-toggleable__control:checked~label.sk-toggleable__label-arrow:before {content: \"▾\";}#sk-container-id-5 div.sk-estimator input.sk-toggleable__control:checked~label.sk-toggleable__label {background-color: #d4ebff;}#sk-container-id-5 div.sk-label input.sk-toggleable__control:checked~label.sk-toggleable__label {background-color: #d4ebff;}#sk-container-id-5 input.sk-hidden--visually {border: 0;clip: rect(1px 1px 1px 1px);clip: rect(1px, 1px, 1px, 1px);height: 1px;margin: -1px;overflow: hidden;padding: 0;position: absolute;width: 1px;}#sk-container-id-5 div.sk-estimator {font-family: monospace;background-color: #f0f8ff;border: 1px dotted black;border-radius: 0.25em;box-sizing: border-box;margin-bottom: 0.5em;}#sk-container-id-5 div.sk-estimator:hover {background-color: #d4ebff;}#sk-container-id-5 div.sk-parallel-item::after {content: \"\";width: 100%;border-bottom: 1px solid gray;flex-grow: 1;}#sk-container-id-5 div.sk-label:hover label.sk-toggleable__label {background-color: #d4ebff;}#sk-container-id-5 div.sk-serial::before {content: \"\";position: absolute;border-left: 1px solid gray;box-sizing: border-box;top: 0;bottom: 0;left: 50%;z-index: 0;}#sk-container-id-5 div.sk-serial {display: flex;flex-direction: column;align-items: center;background-color: white;padding-right: 0.2em;padding-left: 0.2em;position: relative;}#sk-container-id-5 div.sk-item {position: relative;z-index: 1;}#sk-container-id-5 div.sk-parallel {display: flex;align-items: stretch;justify-content: center;background-color: white;position: relative;}#sk-container-id-5 div.sk-item::before, #sk-container-id-5 div.sk-parallel-item::before {content: \"\";position: absolute;border-left: 1px solid gray;box-sizing: border-box;top: 0;bottom: 0;left: 50%;z-index: -1;}#sk-container-id-5 div.sk-parallel-item {display: flex;flex-direction: column;z-index: 1;position: relative;background-color: white;}#sk-container-id-5 div.sk-parallel-item:first-child::after {align-self: flex-end;width: 50%;}#sk-container-id-5 div.sk-parallel-item:last-child::after {align-self: flex-start;width: 50%;}#sk-container-id-5 div.sk-parallel-item:only-child::after {width: 0;}#sk-container-id-5 div.sk-dashed-wrapped {border: 1px dashed gray;margin: 0 0.4em 0.5em 0.4em;box-sizing: border-box;padding-bottom: 0.4em;background-color: white;}#sk-container-id-5 div.sk-label label {font-family: monospace;font-weight: bold;display: inline-block;line-height: 1.2em;}#sk-container-id-5 div.sk-label-container {text-align: center;}#sk-container-id-5 div.sk-container {/* jupyter's `normalize.less` sets `[hidden] { display: none; }` but bootstrap.min.css set `[hidden] { display: none !important; }` so we also need the `!important` here to be able to override the default hidden behavior on the sphinx rendered scikit-learn.org. See: https://github.com/scikit-learn/scikit-learn/issues/21755 */display: inline-block !important;position: relative;}#sk-container-id-5 div.sk-text-repr-fallback {display: none;}</style><div id=\"sk-container-id-5\" class=\"sk-top-container\"><div class=\"sk-text-repr-fallback\"><pre>GradientBoostingClassifier()</pre><b>In a Jupyter environment, please rerun this cell to show the HTML representation or trust the notebook. <br />On GitHub, the HTML representation is unable to render, please try loading this page with nbviewer.org.</b></div><div class=\"sk-container\" hidden><div class=\"sk-item\"><div class=\"sk-estimator sk-toggleable\"><input class=\"sk-toggleable__control sk-hidden--visually\" id=\"sk-estimator-id-5\" type=\"checkbox\" checked><label for=\"sk-estimator-id-5\" class=\"sk-toggleable__label sk-toggleable__label-arrow\">GradientBoostingClassifier</label><div class=\"sk-toggleable__content\"><pre>GradientBoostingClassifier()</pre></div></div></div></div></div>"
      ],
      "text/plain": [
       "GradientBoostingClassifier()"
      ]
     },
     "execution_count": 49,
     "metadata": {},
     "output_type": "execute_result"
    }
   ],
   "source": [
    "gb = GradientBoostingClassifier(n_estimators=100, learning_rate=0.1, max_depth=3)\n",
    "gb.fit(X_train, y_train)"
   ]
  },
  {
   "cell_type": "code",
   "execution_count": 50,
   "metadata": {},
   "outputs": [
    {
     "name": "stdout",
     "output_type": "stream",
     "text": [
      "----- Train -----\n",
      "Misclassified samples: 365\n",
      "Accuracy: 0.91\n",
      "Precision: 0.92\n",
      "Recall: 0.91\n",
      "F1: 0.90\n",
      "\n",
      "----- Test -----\n",
      "Misclassified samples: 110\n",
      "Accuracy: 0.89\n",
      "Precision: 0.89\n",
      "Recall: 0.89\n",
      "F1: 0.88\n"
     ]
    },
    {
     "data": {
      "text/plain": [
       "array([1, 1, 1, ..., 1, 1, 1])"
      ]
     },
     "execution_count": 50,
     "metadata": {},
     "output_type": "execute_result"
    }
   ],
   "source": [
    "pred_metrics(gb, X_train, y_train, X_test, y_test)"
   ]
  },
  {
   "cell_type": "code",
   "execution_count": 51,
   "metadata": {},
   "outputs": [
    {
     "data": {
      "text/plain": [
       "['best_model.joblib']"
      ]
     },
     "execution_count": 51,
     "metadata": {},
     "output_type": "execute_result"
    }
   ],
   "source": [
    "joblib.dump(gb, \"best_model.joblib\")"
   ]
  },
  {
   "cell_type": "code",
   "execution_count": 52,
   "metadata": {},
   "outputs": [
    {
     "data": {
      "text/plain": [
       "['encoders.joblib']"
      ]
     },
     "execution_count": 52,
     "metadata": {},
     "output_type": "execute_result"
    }
   ],
   "source": [
    "joblib.dump(label_encoders, \"encoders.joblib\")"
   ]
  },
  {
   "cell_type": "code",
   "execution_count": 53,
   "metadata": {},
   "outputs": [
    {
     "data": {
      "text/plain": [
       "{'Age': '21-25',\n",
       " 'Gender': 'F',\n",
       " 'Program': 'PM',\n",
       " 'Course': 'Computing',\n",
       " 'English': '60%~70%',\n",
       " 'Academic': '60%~70%',\n",
       " 'Attendance': 'S0',\n",
       " '6': 'Neither',\n",
       " '7': 'Neither',\n",
       " '8': 'Agree',\n",
       " '9': 'Neither',\n",
       " '10': 'Neither',\n",
       " '11': 'Neither',\n",
       " '12': 'Agree',\n",
       " '13': 'Disagree',\n",
       " '14': 'Strong Disagree',\n",
       " '15': 'Strong Disagree',\n",
       " '16': 'Neither',\n",
       " '17': 'Strong Disagree',\n",
       " 'Score Range': '35-45'}"
      ]
     },
     "execution_count": 53,
     "metadata": {},
     "output_type": "execute_result"
    }
   ],
   "source": [
    "input_data = {'Age': '21-25',\n",
    " 'Gender': 'F',\n",
    " 'Program': 'PM',\n",
    " 'Course': 'Computing',\n",
    " 'English': '60%~70%',\n",
    " 'Academic' : '60%~70%',\n",
    " 'Attendance' : 'S0',\n",
    " '6'  : 'Neither',\n",
    " '7'  : 'Neither',\n",
    " '8'  : 'Agree',\n",
    " '9'  : 'Neither',\n",
    " '10' : 'Neither',\n",
    " '11' : 'Neither',\n",
    " '12' : 'Agree',\n",
    " '13' : 'Disagree',\n",
    " '14' : 'Strong Disagree',\n",
    " '15' : 'Strong Disagree',\n",
    " '16' : 'Neither',\n",
    " '17' : 'Strong Disagree',\n",
    " 'Score Range' : '35-45'\n",
    "}\n",
    "input_data"
   ]
  },
  {
   "cell_type": "code",
   "execution_count": 54,
   "metadata": {},
   "outputs": [
    {
     "data": {
      "text/plain": [
       "['Age',\n",
       " 'Gender',\n",
       " 'Program',\n",
       " 'Course',\n",
       " 'English',\n",
       " 'Academic',\n",
       " 'Attendance',\n",
       " '6',\n",
       " '7',\n",
       " '8',\n",
       " '9',\n",
       " '10',\n",
       " '11',\n",
       " '12',\n",
       " '13',\n",
       " '14',\n",
       " '15',\n",
       " '16',\n",
       " '17']"
      ]
     },
     "execution_count": 54,
     "metadata": {},
     "output_type": "execute_result"
    }
   ],
   "source": [
    "input_col_list = col_list_obj[:-1]\n",
    "input_col_list"
   ]
  },
  {
   "cell_type": "code",
   "execution_count": 55,
   "metadata": {},
   "outputs": [
    {
     "data": {
      "text/html": [
       "<div>\n",
       "<style scoped>\n",
       "    .dataframe tbody tr th:only-of-type {\n",
       "        vertical-align: middle;\n",
       "    }\n",
       "\n",
       "    .dataframe tbody tr th {\n",
       "        vertical-align: top;\n",
       "    }\n",
       "\n",
       "    .dataframe thead th {\n",
       "        text-align: right;\n",
       "    }\n",
       "</style>\n",
       "<table border=\"1\" class=\"dataframe\">\n",
       "  <thead>\n",
       "    <tr style=\"text-align: right;\">\n",
       "      <th></th>\n",
       "      <th>Age</th>\n",
       "      <th>Gender</th>\n",
       "      <th>Program</th>\n",
       "      <th>Course</th>\n",
       "      <th>English</th>\n",
       "      <th>Academic</th>\n",
       "      <th>Attendance</th>\n",
       "      <th>6</th>\n",
       "      <th>7</th>\n",
       "      <th>8</th>\n",
       "      <th>9</th>\n",
       "      <th>10</th>\n",
       "      <th>11</th>\n",
       "      <th>12</th>\n",
       "      <th>13</th>\n",
       "      <th>14</th>\n",
       "      <th>15</th>\n",
       "      <th>16</th>\n",
       "      <th>17</th>\n",
       "      <th>Score Range</th>\n",
       "    </tr>\n",
       "  </thead>\n",
       "  <tbody>\n",
       "    <tr>\n",
       "      <th>0</th>\n",
       "      <td>1</td>\n",
       "      <td>0</td>\n",
       "      <td>3</td>\n",
       "      <td>2</td>\n",
       "      <td>2</td>\n",
       "      <td>2</td>\n",
       "      <td>0</td>\n",
       "      <td>2</td>\n",
       "      <td>2</td>\n",
       "      <td>0</td>\n",
       "      <td>2</td>\n",
       "      <td>2</td>\n",
       "      <td>2</td>\n",
       "      <td>0</td>\n",
       "      <td>1</td>\n",
       "      <td>4</td>\n",
       "      <td>4</td>\n",
       "      <td>2</td>\n",
       "      <td>4</td>\n",
       "      <td>1</td>\n",
       "    </tr>\n",
       "  </tbody>\n",
       "</table>\n",
       "</div>"
      ],
      "text/plain": [
       "   Age  Gender  Program  Course  English  Academic  Attendance  6  7  8  9  \\\n",
       "0    1       0        3       2        2         2           0  2  2  0  2   \n",
       "\n",
       "   10  11  12  13  14  15  16  17  Score Range  \n",
       "0   2   2   0   1   4   4   2   4            1  "
      ]
     },
     "execution_count": 55,
     "metadata": {},
     "output_type": "execute_result"
    }
   ],
   "source": [
    "input_df = pd.DataFrame([input_data])\n",
    "input_encoded = label_encode_columns_w_fit_encoders(result=input_df, columns=col_list_obj, encoders=label_encoders)\n",
    "input_encoded\n",
    "# input_df\n",
    "\n",
    "# tmp = input_encoded.drop('Score Range', axis=1)\n"
   ]
  },
  {
   "cell_type": "code",
   "execution_count": 56,
   "metadata": {},
   "outputs": [
    {
     "data": {
      "text/html": [
       "<div>\n",
       "<style scoped>\n",
       "    .dataframe tbody tr th:only-of-type {\n",
       "        vertical-align: middle;\n",
       "    }\n",
       "\n",
       "    .dataframe tbody tr th {\n",
       "        vertical-align: top;\n",
       "    }\n",
       "\n",
       "    .dataframe thead th {\n",
       "        text-align: right;\n",
       "    }\n",
       "</style>\n",
       "<table border=\"1\" class=\"dataframe\">\n",
       "  <thead>\n",
       "    <tr style=\"text-align: right;\">\n",
       "      <th></th>\n",
       "      <th>Age</th>\n",
       "      <th>Gender</th>\n",
       "      <th>Program</th>\n",
       "      <th>Course</th>\n",
       "      <th>English</th>\n",
       "      <th>Academic</th>\n",
       "      <th>Attendance</th>\n",
       "      <th>6</th>\n",
       "      <th>7</th>\n",
       "      <th>8</th>\n",
       "      <th>9</th>\n",
       "      <th>10</th>\n",
       "      <th>11</th>\n",
       "      <th>12</th>\n",
       "      <th>13</th>\n",
       "      <th>14</th>\n",
       "      <th>15</th>\n",
       "      <th>16</th>\n",
       "      <th>17</th>\n",
       "    </tr>\n",
       "  </thead>\n",
       "  <tbody>\n",
       "    <tr>\n",
       "      <th>0</th>\n",
       "      <td>1</td>\n",
       "      <td>0</td>\n",
       "      <td>3</td>\n",
       "      <td>2</td>\n",
       "      <td>2</td>\n",
       "      <td>2</td>\n",
       "      <td>0</td>\n",
       "      <td>2</td>\n",
       "      <td>2</td>\n",
       "      <td>0</td>\n",
       "      <td>2</td>\n",
       "      <td>2</td>\n",
       "      <td>2</td>\n",
       "      <td>0</td>\n",
       "      <td>1</td>\n",
       "      <td>4</td>\n",
       "      <td>4</td>\n",
       "      <td>2</td>\n",
       "      <td>4</td>\n",
       "    </tr>\n",
       "  </tbody>\n",
       "</table>\n",
       "</div>"
      ],
      "text/plain": [
       "   Age  Gender  Program  Course  English  Academic  Attendance  6  7  8  9  \\\n",
       "0    1       0        3       2        2         2           0  2  2  0  2   \n",
       "\n",
       "   10  11  12  13  14  15  16  17  \n",
       "0   2   2   0   1   4   4   2   4  "
      ]
     },
     "execution_count": 56,
     "metadata": {},
     "output_type": "execute_result"
    }
   ],
   "source": [
    "# input = input_encoded[result.columns.difference(['Score Range'])]\n",
    "# # input = result.columns.difference(['Score Range'])\n",
    "# input\n",
    "\n",
    "\n",
    "df_restored = input_encoded.drop('Score Range', axis=1)\n",
    "df_restored"
   ]
  },
  {
   "cell_type": "code",
   "execution_count": 57,
   "metadata": {},
   "outputs": [
    {
     "data": {
      "text/html": [
       "<div>\n",
       "<style scoped>\n",
       "    .dataframe tbody tr th:only-of-type {\n",
       "        vertical-align: middle;\n",
       "    }\n",
       "\n",
       "    .dataframe tbody tr th {\n",
       "        vertical-align: top;\n",
       "    }\n",
       "\n",
       "    .dataframe thead th {\n",
       "        text-align: right;\n",
       "    }\n",
       "</style>\n",
       "<table border=\"1\" class=\"dataframe\">\n",
       "  <thead>\n",
       "    <tr style=\"text-align: right;\">\n",
       "      <th></th>\n",
       "      <th>Age</th>\n",
       "      <th>Gender</th>\n",
       "      <th>Program</th>\n",
       "      <th>Course</th>\n",
       "      <th>English</th>\n",
       "      <th>Academic</th>\n",
       "      <th>Attendance</th>\n",
       "      <th>6</th>\n",
       "      <th>7</th>\n",
       "      <th>8</th>\n",
       "      <th>9</th>\n",
       "      <th>10</th>\n",
       "      <th>11</th>\n",
       "      <th>12</th>\n",
       "      <th>13</th>\n",
       "      <th>14</th>\n",
       "      <th>15</th>\n",
       "      <th>16</th>\n",
       "      <th>17</th>\n",
       "    </tr>\n",
       "  </thead>\n",
       "  <tbody>\n",
       "    <tr>\n",
       "      <th>0</th>\n",
       "      <td>1</td>\n",
       "      <td>0</td>\n",
       "      <td>3</td>\n",
       "      <td>2</td>\n",
       "      <td>2</td>\n",
       "      <td>2</td>\n",
       "      <td>0</td>\n",
       "      <td>2</td>\n",
       "      <td>2</td>\n",
       "      <td>0</td>\n",
       "      <td>2</td>\n",
       "      <td>2</td>\n",
       "      <td>2</td>\n",
       "      <td>0</td>\n",
       "      <td>1</td>\n",
       "      <td>4</td>\n",
       "      <td>4</td>\n",
       "      <td>2</td>\n",
       "      <td>4</td>\n",
       "    </tr>\n",
       "  </tbody>\n",
       "</table>\n",
       "</div>"
      ],
      "text/plain": [
       "   Age  Gender  Program  Course  English  Academic  Attendance  6  7  8  9  \\\n",
       "0    1       0        3       2        2         2           0  2  2  0  2   \n",
       "\n",
       "   10  11  12  13  14  15  16  17  \n",
       "0   2   2   0   1   4   4   2   4  "
      ]
     },
     "execution_count": 57,
     "metadata": {},
     "output_type": "execute_result"
    }
   ],
   "source": [
    "# input = input_encoded[result.columns.difference(['Score Range'])]\n",
    "# # input = result.columns.difference(['Score Range'])\n",
    "# input\n",
    "\n",
    "\n",
    "df_restored = input_encoded.drop('Score Range', axis=1)\n",
    "df_restored"
   ]
  },
  {
   "cell_type": "code",
   "execution_count": 58,
   "metadata": {},
   "outputs": [
    {
     "data": {
      "text/plain": [
       "array([0])"
      ]
     },
     "execution_count": 58,
     "metadata": {},
     "output_type": "execute_result"
    }
   ],
   "source": [
    "model = joblib.load(\"best_model.joblib\")\n",
    "predicted_label = model.predict(df_restored)\n",
    "predicted_label"
   ]
  },
  {
   "cell_type": "code",
   "execution_count": 59,
   "metadata": {},
   "outputs": [],
   "source": [
    "def decode_label(column, label, encoders):\n",
    "    le = encoders.get(column)\n",
    "    decoded_label = le.inverse_transform([label])\n",
    "\n",
    "    return decoded_label[0]"
   ]
  },
  {
   "cell_type": "code",
   "execution_count": 60,
   "metadata": {},
   "outputs": [
    {
     "data": {
      "text/plain": [
       "['decode_label.joblib']"
      ]
     },
     "execution_count": 60,
     "metadata": {},
     "output_type": "execute_result"
    }
   ],
   "source": [
    "joblib.dump(decode_label, \"decode_label.joblib\")"
   ]
  },
  {
   "cell_type": "code",
   "execution_count": 61,
   "metadata": {},
   "outputs": [
    {
     "data": {
      "text/plain": [
       "'25-35'"
      ]
     },
     "execution_count": 61,
     "metadata": {},
     "output_type": "execute_result"
    }
   ],
   "source": [
    "decoded_label = decode_label('Score Range', predicted_label[0], label_encoders)\n",
    "decoded_label"
   ]
  },
  {
   "cell_type": "code",
   "execution_count": 62,
   "metadata": {},
   "outputs": [
    {
     "data": {
      "text/plain": [
       "(-1.0999999997626002,\n",
       " 1.0999999973815782,\n",
       " -1.099999999162651,\n",
       " 1.0999999999601262)"
      ]
     },
     "execution_count": 62,
     "metadata": {},
     "output_type": "execute_result"
    },
    {
     "data": {
      "image/png": "[encoded data removed]",
      "text/plain": [
       "<Figure size 640x480 with 1 Axes>"
      ]
     },
     "metadata": {},
     "output_type": "display_data"
    }
   ],
   "source": [
    "course_counts = result['Course'].value_counts()\n",
    "fig, ax = plt.subplots()\n",
    "ax.pie(course_counts, labels=course_counts.index, autopct=\"%1.1f%%\", shadow=True, startangle=90)\n",
    "ax.axis(\"equal\")  # Equal aspect ratio ensures that pie is drawn as a circle.\n",
    "\n"
   ]
  },
  {
   "cell_type": "code",
   "execution_count": 63,
   "metadata": {},
   "outputs": [
    {
     "data": {
      "text/plain": [
       "(array([-1.,  0.,  1.,  2.,  3.,  4.,  5.]),\n",
       " [Text(-1.0, 0, '−1'),\n",
       "  Text(0.0, 0, '0'),\n",
       "  Text(1.0, 0, '1'),\n",
       "  Text(2.0, 0, '2'),\n",
       "  Text(3.0, 0, '3'),\n",
       "  Text(4.0, 0, '4'),\n",
       "  Text(5.0, 0, '5')])"
      ]
     },
     "execution_count": 63,
     "metadata": {},
     "output_type": "execute_result"
    },
    {
     "data": {
      "image/png": "[encoded data removed]",
      "text/plain": [
       "<Figure size 800x600 with 1 Axes>"
      ]
     },
     "metadata": {},
     "output_type": "display_data"
    }
   ],
   "source": [
    "plt.figure(figsize=(8, 6))\n",
    "plt.bar(result['Attendance'], result['Score Range'], color='skyblue')\n",
    "plt.xlabel('Attendance Level')\n",
    "plt.ylabel('Predicted Score')\n",
    "#plt.title('Attendance vs Predicted Scores')\n",
    "plt.xticks(rotation=45)\n"
   ]
  }
 ],
 "metadata": {
  "kernelspec": {
   "display_name": "Python 3",
   "language": "python",
   "name": "python3"
  },
  "language_info": {
   "codemirror_mode": {
    "name": "ipython",
    "version": 3
   },
   "file_extension": ".py",
   "mimetype": "text/x-python",
   "name": "python",
   "nbconvert_exporter": "python",
   "pygments_lexer": "ipython3",
   "version": "3.10.11"
  }
 },
 "nbformat": 4,
 "nbformat_minor": 2
}
